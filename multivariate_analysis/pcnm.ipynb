{
 "cells": [
  {
   "cell_type": "code",
   "execution_count": 248,
   "metadata": {},
   "outputs": [],
   "source": [
    "import networkx as nx \n",
    "import matplotlib.pyplot as plt \n",
    "import numpy as np\n",
    "import pandas as pd"
   ]
  },
  {
   "cell_type": "code",
   "execution_count": 249,
   "metadata": {},
   "outputs": [],
   "source": [
    "coordinates_file = '../../Fieldwork/QGIS maps/SamplingSites.csv'\n",
    "threshold = 185 # max distance is between HM-C and HM-D at ~ 180\n",
    "threshold_times = 4"
   ]
  },
  {
   "cell_type": "code",
   "execution_count": 250,
   "metadata": {},
   "outputs": [],
   "source": [
    "coord_df = pd.read_csv(coordinates_file)[['field_1','Easting','Northing']]\n",
    "HM_coord_df = coord_df[coord_df['field_1'].str.contains(\"HM\")]\n",
    "HM_coord_array = HM_coord_df[['Easting','Northing']].to_numpy()\n",
    "# HM_coord_array"
   ]
  },
  {
   "cell_type": "code",
   "execution_count": 251,
   "metadata": {},
   "outputs": [
    {
     "data": {
      "text/html": [
       "<div>\n",
       "<style scoped>\n",
       "    .dataframe tbody tr th:only-of-type {\n",
       "        vertical-align: middle;\n",
       "    }\n",
       "\n",
       "    .dataframe tbody tr th {\n",
       "        vertical-align: top;\n",
       "    }\n",
       "\n",
       "    .dataframe thead th {\n",
       "        text-align: right;\n",
       "    }\n",
       "</style>\n",
       "<table border=\"1\" class=\"dataframe\">\n",
       "  <thead>\n",
       "    <tr style=\"text-align: right;\">\n",
       "      <th></th>\n",
       "      <th>0</th>\n",
       "      <th>1</th>\n",
       "      <th>2</th>\n",
       "      <th>3</th>\n",
       "      <th>4</th>\n",
       "      <th>5</th>\n",
       "      <th>6</th>\n",
       "      <th>7</th>\n",
       "      <th>8</th>\n",
       "    </tr>\n",
       "  </thead>\n",
       "  <tbody>\n",
       "    <tr>\n",
       "      <th>0</th>\n",
       "      <td>0.000000</td>\n",
       "      <td>422.946460</td>\n",
       "      <td>316.191533</td>\n",
       "      <td>239.487669</td>\n",
       "      <td>171.843540</td>\n",
       "      <td>11.003556</td>\n",
       "      <td>154.497746</td>\n",
       "      <td>277.507299</td>\n",
       "      <td>397.120900</td>\n",
       "    </tr>\n",
       "    <tr>\n",
       "      <th>1</th>\n",
       "      <td>422.946460</td>\n",
       "      <td>0.000000</td>\n",
       "      <td>121.384265</td>\n",
       "      <td>221.261640</td>\n",
       "      <td>401.378646</td>\n",
       "      <td>429.621507</td>\n",
       "      <td>289.337223</td>\n",
       "      <td>209.127721</td>\n",
       "      <td>176.328978</td>\n",
       "    </tr>\n",
       "    <tr>\n",
       "      <th>2</th>\n",
       "      <td>316.191533</td>\n",
       "      <td>121.384265</td>\n",
       "      <td>0.000000</td>\n",
       "      <td>99.878320</td>\n",
       "      <td>279.997425</td>\n",
       "      <td>324.173050</td>\n",
       "      <td>205.709633</td>\n",
       "      <td>179.401727</td>\n",
       "      <td>220.435700</td>\n",
       "    </tr>\n",
       "    <tr>\n",
       "      <th>3</th>\n",
       "      <td>239.487669</td>\n",
       "      <td>221.261640</td>\n",
       "      <td>99.878320</td>\n",
       "      <td>0.000000</td>\n",
       "      <td>180.135097</td>\n",
       "      <td>248.999835</td>\n",
       "      <td>174.801352</td>\n",
       "      <td>212.110817</td>\n",
       "      <td>292.055969</td>\n",
       "    </tr>\n",
       "    <tr>\n",
       "      <th>4</th>\n",
       "      <td>171.843540</td>\n",
       "      <td>401.378646</td>\n",
       "      <td>279.997425</td>\n",
       "      <td>180.135097</td>\n",
       "      <td>0.000000</td>\n",
       "      <td>182.353455</td>\n",
       "      <td>241.623764</td>\n",
       "      <td>342.169288</td>\n",
       "      <td>447.779806</td>\n",
       "    </tr>\n",
       "    <tr>\n",
       "      <th>5</th>\n",
       "      <td>11.003556</td>\n",
       "      <td>429.621507</td>\n",
       "      <td>324.173050</td>\n",
       "      <td>248.999835</td>\n",
       "      <td>182.353455</td>\n",
       "      <td>0.000000</td>\n",
       "      <td>157.224327</td>\n",
       "      <td>279.893525</td>\n",
       "      <td>399.587674</td>\n",
       "    </tr>\n",
       "    <tr>\n",
       "      <th>6</th>\n",
       "      <td>154.497746</td>\n",
       "      <td>289.337223</td>\n",
       "      <td>205.709633</td>\n",
       "      <td>174.801352</td>\n",
       "      <td>241.623764</td>\n",
       "      <td>157.224327</td>\n",
       "      <td>0.000000</td>\n",
       "      <td>123.058499</td>\n",
       "      <td>242.624636</td>\n",
       "    </tr>\n",
       "    <tr>\n",
       "      <th>7</th>\n",
       "      <td>277.507299</td>\n",
       "      <td>209.127721</td>\n",
       "      <td>179.401727</td>\n",
       "      <td>212.110817</td>\n",
       "      <td>342.169288</td>\n",
       "      <td>279.893525</td>\n",
       "      <td>123.058499</td>\n",
       "      <td>0.000000</td>\n",
       "      <td>119.695520</td>\n",
       "    </tr>\n",
       "    <tr>\n",
       "      <th>8</th>\n",
       "      <td>397.120900</td>\n",
       "      <td>176.328978</td>\n",
       "      <td>220.435700</td>\n",
       "      <td>292.055969</td>\n",
       "      <td>447.779806</td>\n",
       "      <td>399.587674</td>\n",
       "      <td>242.624636</td>\n",
       "      <td>119.695520</td>\n",
       "      <td>0.000000</td>\n",
       "    </tr>\n",
       "  </tbody>\n",
       "</table>\n",
       "</div>"
      ],
      "text/plain": [
       "            0           1           2           3           4           5  \\\n",
       "0    0.000000  422.946460  316.191533  239.487669  171.843540   11.003556   \n",
       "1  422.946460    0.000000  121.384265  221.261640  401.378646  429.621507   \n",
       "2  316.191533  121.384265    0.000000   99.878320  279.997425  324.173050   \n",
       "3  239.487669  221.261640   99.878320    0.000000  180.135097  248.999835   \n",
       "4  171.843540  401.378646  279.997425  180.135097    0.000000  182.353455   \n",
       "5   11.003556  429.621507  324.173050  248.999835  182.353455    0.000000   \n",
       "6  154.497746  289.337223  205.709633  174.801352  241.623764  157.224327   \n",
       "7  277.507299  209.127721  179.401727  212.110817  342.169288  279.893525   \n",
       "8  397.120900  176.328978  220.435700  292.055969  447.779806  399.587674   \n",
       "\n",
       "            6           7           8  \n",
       "0  154.497746  277.507299  397.120900  \n",
       "1  289.337223  209.127721  176.328978  \n",
       "2  205.709633  179.401727  220.435700  \n",
       "3  174.801352  212.110817  292.055969  \n",
       "4  241.623764  342.169288  447.779806  \n",
       "5  157.224327  279.893525  399.587674  \n",
       "6    0.000000  123.058499  242.624636  \n",
       "7  123.058499    0.000000  119.695520  \n",
       "8  242.624636  119.695520    0.000000  "
      ]
     },
     "execution_count": 251,
     "metadata": {},
     "output_type": "execute_result"
    }
   ],
   "source": [
    "HM_dist_matr = np.zeros((len(HM_coord_df),len(HM_coord_df)))\n",
    "for i in range(len(HM_coord_df)):\n",
    "    for j in range(len(HM_coord_df)):\n",
    "        HM_dist_matr[i,j] = np.linalg.norm(HM_coord_array[i,:]-HM_coord_array[j,:])\n",
    "pd.DataFrame(HM_dist_matr)"
   ]
  },
  {
   "cell_type": "code",
   "execution_count": 252,
   "metadata": {},
   "outputs": [
    {
     "data": {
      "text/html": [
       "<div>\n",
       "<style scoped>\n",
       "    .dataframe tbody tr th:only-of-type {\n",
       "        vertical-align: middle;\n",
       "    }\n",
       "\n",
       "    .dataframe tbody tr th {\n",
       "        vertical-align: top;\n",
       "    }\n",
       "\n",
       "    .dataframe thead th {\n",
       "        text-align: right;\n",
       "    }\n",
       "</style>\n",
       "<table border=\"1\" class=\"dataframe\">\n",
       "  <thead>\n",
       "    <tr style=\"text-align: right;\">\n",
       "      <th></th>\n",
       "      <th>0</th>\n",
       "      <th>1</th>\n",
       "      <th>2</th>\n",
       "      <th>3</th>\n",
       "      <th>4</th>\n",
       "      <th>5</th>\n",
       "      <th>6</th>\n",
       "      <th>7</th>\n",
       "      <th>8</th>\n",
       "    </tr>\n",
       "  </thead>\n",
       "  <tbody>\n",
       "    <tr>\n",
       "      <th>0</th>\n",
       "      <td>0.000000</td>\n",
       "      <td>740.000000</td>\n",
       "      <td>740.000000</td>\n",
       "      <td>740.000000</td>\n",
       "      <td>171.843540</td>\n",
       "      <td>11.003556</td>\n",
       "      <td>154.497746</td>\n",
       "      <td>740.000000</td>\n",
       "      <td>740.000000</td>\n",
       "    </tr>\n",
       "    <tr>\n",
       "      <th>1</th>\n",
       "      <td>740.000000</td>\n",
       "      <td>0.000000</td>\n",
       "      <td>121.384265</td>\n",
       "      <td>740.000000</td>\n",
       "      <td>740.000000</td>\n",
       "      <td>740.000000</td>\n",
       "      <td>740.000000</td>\n",
       "      <td>740.000000</td>\n",
       "      <td>176.328978</td>\n",
       "    </tr>\n",
       "    <tr>\n",
       "      <th>2</th>\n",
       "      <td>740.000000</td>\n",
       "      <td>121.384265</td>\n",
       "      <td>0.000000</td>\n",
       "      <td>99.878320</td>\n",
       "      <td>740.000000</td>\n",
       "      <td>740.000000</td>\n",
       "      <td>740.000000</td>\n",
       "      <td>179.401727</td>\n",
       "      <td>740.000000</td>\n",
       "    </tr>\n",
       "    <tr>\n",
       "      <th>3</th>\n",
       "      <td>740.000000</td>\n",
       "      <td>740.000000</td>\n",
       "      <td>99.878320</td>\n",
       "      <td>0.000000</td>\n",
       "      <td>180.135097</td>\n",
       "      <td>740.000000</td>\n",
       "      <td>174.801352</td>\n",
       "      <td>740.000000</td>\n",
       "      <td>740.000000</td>\n",
       "    </tr>\n",
       "    <tr>\n",
       "      <th>4</th>\n",
       "      <td>171.843540</td>\n",
       "      <td>740.000000</td>\n",
       "      <td>740.000000</td>\n",
       "      <td>180.135097</td>\n",
       "      <td>0.000000</td>\n",
       "      <td>182.353455</td>\n",
       "      <td>740.000000</td>\n",
       "      <td>740.000000</td>\n",
       "      <td>740.000000</td>\n",
       "    </tr>\n",
       "    <tr>\n",
       "      <th>5</th>\n",
       "      <td>11.003556</td>\n",
       "      <td>740.000000</td>\n",
       "      <td>740.000000</td>\n",
       "      <td>740.000000</td>\n",
       "      <td>182.353455</td>\n",
       "      <td>0.000000</td>\n",
       "      <td>157.224327</td>\n",
       "      <td>740.000000</td>\n",
       "      <td>740.000000</td>\n",
       "    </tr>\n",
       "    <tr>\n",
       "      <th>6</th>\n",
       "      <td>154.497746</td>\n",
       "      <td>740.000000</td>\n",
       "      <td>740.000000</td>\n",
       "      <td>174.801352</td>\n",
       "      <td>740.000000</td>\n",
       "      <td>157.224327</td>\n",
       "      <td>0.000000</td>\n",
       "      <td>123.058499</td>\n",
       "      <td>740.000000</td>\n",
       "    </tr>\n",
       "    <tr>\n",
       "      <th>7</th>\n",
       "      <td>740.000000</td>\n",
       "      <td>740.000000</td>\n",
       "      <td>179.401727</td>\n",
       "      <td>740.000000</td>\n",
       "      <td>740.000000</td>\n",
       "      <td>740.000000</td>\n",
       "      <td>123.058499</td>\n",
       "      <td>0.000000</td>\n",
       "      <td>119.695520</td>\n",
       "    </tr>\n",
       "    <tr>\n",
       "      <th>8</th>\n",
       "      <td>740.000000</td>\n",
       "      <td>176.328978</td>\n",
       "      <td>740.000000</td>\n",
       "      <td>740.000000</td>\n",
       "      <td>740.000000</td>\n",
       "      <td>740.000000</td>\n",
       "      <td>740.000000</td>\n",
       "      <td>119.695520</td>\n",
       "      <td>0.000000</td>\n",
       "    </tr>\n",
       "  </tbody>\n",
       "</table>\n",
       "</div>"
      ],
      "text/plain": [
       "            0           1           2           3           4           5  \\\n",
       "0    0.000000  740.000000  740.000000  740.000000  171.843540   11.003556   \n",
       "1  740.000000    0.000000  121.384265  740.000000  740.000000  740.000000   \n",
       "2  740.000000  121.384265    0.000000   99.878320  740.000000  740.000000   \n",
       "3  740.000000  740.000000   99.878320    0.000000  180.135097  740.000000   \n",
       "4  171.843540  740.000000  740.000000  180.135097    0.000000  182.353455   \n",
       "5   11.003556  740.000000  740.000000  740.000000  182.353455    0.000000   \n",
       "6  154.497746  740.000000  740.000000  174.801352  740.000000  157.224327   \n",
       "7  740.000000  740.000000  179.401727  740.000000  740.000000  740.000000   \n",
       "8  740.000000  176.328978  740.000000  740.000000  740.000000  740.000000   \n",
       "\n",
       "            6           7           8  \n",
       "0  154.497746  740.000000  740.000000  \n",
       "1  740.000000  740.000000  176.328978  \n",
       "2  740.000000  179.401727  740.000000  \n",
       "3  174.801352  740.000000  740.000000  \n",
       "4  740.000000  740.000000  740.000000  \n",
       "5  157.224327  740.000000  740.000000  \n",
       "6    0.000000  123.058499  740.000000  \n",
       "7  123.058499    0.000000  119.695520  \n",
       "8  740.000000  119.695520    0.000000  "
      ]
     },
     "execution_count": 252,
     "metadata": {},
     "output_type": "execute_result"
    }
   ],
   "source": [
    "def get_neighb_matr(array,threshold,threshold_times):\n",
    "    array[np.where(array>threshold)] = threshold_times * threshold\n",
    "    return array\n",
    "\n",
    "HM_neighb_matr = get_neighb_matr(HM_dist_matr,threshold,threshold_times)\n",
    "pd.DataFrame(HM_neighb_matr)"
   ]
  },
  {
   "cell_type": "code",
   "execution_count": 253,
   "metadata": {},
   "outputs": [],
   "source": [
    "from scipy.linalg import eigh"
   ]
  },
  {
   "cell_type": "code",
   "execution_count": 254,
   "metadata": {},
   "outputs": [],
   "source": [
    "def PCoA(matrix,r=2):\n",
    "    # https://lookmanolowo.web.illinois.edu/2024/03/13/principal-coordinate-analysis-hands-on/\n",
    "    \n",
    "    # square the matrix to emphasize the hidden structure within the dataset\n",
    "    D = matrix.copy()\n",
    "    D2 = np.pow(D,2)\n",
    "\n",
    "    n = len(D)\n",
    "\n",
    "    # get centering matrix A\n",
    "    J = np.ones_like(D)\n",
    "    I = np.diag(np.diag(J))\n",
    "    A = I - (J / n)\n",
    "\n",
    "    # get W, which encodes the variance and structure of the original dataset as represented by the squared distances, after being adjusted by double-centering\n",
    "    W = -.5 * np.linalg.multi_dot([A, D2, A.T])\n",
    "    \n",
    "    # find the eigenvalues\n",
    "    eigenvalues, eigenvectors = np.linalg.eigh(W)\n",
    "\n",
    "    I = np.diag(np.diag(np.ones((r,r))))\n",
    "    Λ_s = eigenvalues[:r] * I\n",
    "\n",
    "    U_s = eigenvectors[:,:r]\n",
    "    V_T = np.dot(U_s,Λ_s)\n",
    "\n",
    "    return eigenvalues, eigenvectors, V_T"
   ]
  },
  {
   "cell_type": "code",
   "execution_count": 298,
   "metadata": {},
   "outputs": [],
   "source": [
    "def skbio_pcoa(distance_matrix):\n",
    "\n",
    "    # square the matrix to emphasize the hidden structure within the dataset\n",
    "    D = distance_matrix.copy()\n",
    "    D2 = np.pow(D,2)\n",
    "\n",
    "    n = len(D)\n",
    "\n",
    "    # get centering matrix A\n",
    "    J = np.ones_like(D)\n",
    "    I = np.diag(np.diag(J))\n",
    "    A = I - (J / n)\n",
    "\n",
    "    # get W, which encodes the variance and structure of the original dataset as represented by the squared distances, after being adjusted by double-centering\n",
    "    W = -.5 * np.linalg.multi_dot([A, D2, A.T])\n",
    "\n",
    "    eigvals, eigvecs = np.linalg.eigh(W)\n",
    "    \n",
    "    # Ensure number_of_dimensions does not exceed available dimensions\n",
    "    # number_of_dimensions = min(number_of_dimensions, eigvals.shape[0])\n",
    "\n",
    "    # cogent makes eigenvalues positive by taking the\n",
    "    # abs value, but that doesn't seem to be an approach accepted\n",
    "    # by L&L to deal with negative eigenvalues. We raise a warning\n",
    "    # in that case. First, we make values close to 0 equal to 0.\n",
    "    negative_close_to_zero = np.isclose(eigvals, 0)\n",
    "    eigvals[negative_close_to_zero] = 0\n",
    "\n",
    "    # eigvals might not be ordered, so we first sort them, then analogously\n",
    "    # sort the eigenvectors by the ordering of the eigenvalues too\n",
    "    idxs_descending = eigvals.argsort()[::-1]\n",
    "    eigvals = eigvals[idxs_descending]\n",
    "    eigvecs = eigvecs[:, idxs_descending]\n",
    "\n",
    "    # If we return only the coordinates that make sense (i.e., that have a\n",
    "    # corresponding positive eigenvalue), then Jackknifed Beta Diversity\n",
    "    # won't work as it expects all the OrdinationResults to have the same\n",
    "    # number of coordinates. In order to solve this issue, we return the\n",
    "    # coordinates that have a negative eigenvalue as 0\n",
    "    num_positive = (eigvals >= 0).sum()\n",
    "    eigvecs[:, num_positive:] = np.zeros(eigvecs[:, num_positive:].shape)\n",
    "    eigvals[num_positive:] = np.zeros(eigvals[num_positive:].shape)\n",
    "\n",
    "    sum_eigenvalues = np.sum(eigvals)\n",
    "\n",
    "    proportion_explained = eigvals / sum_eigenvalues\n",
    " \n",
    "    # In case eigh is used, eigh computes all eigenvectors and -values.\n",
    "    # So if number_of_dimensions was specified, we manually need to ensure\n",
    "    # only the requested number of dimensions\n",
    "    # (number of eigenvectors and eigenvalues, respectively) are returned.\n",
    "\n",
    "\n",
    "    # Scale eigenvalues to have length = sqrt(eigenvalue). This\n",
    "    # works because np.linalg.eigh returns normalized\n",
    "    # eigenvectors. Each row contains the coordinates of the\n",
    "    # objects in the space of principal coordinates. Note that at\n",
    "    # least one eigenvalue is zero because only n-1 axes are\n",
    "    # needed to represent n points in a euclidean space.\n",
    "    coordinates = eigvecs * np.sqrt(eigvals)\n",
    "\n",
    "    return eigvals,coordinates,proportion_explained"
   ]
  },
  {
   "cell_type": "code",
   "execution_count": 299,
   "metadata": {},
   "outputs": [],
   "source": [
    "a = np.array([\n",
    "[0,         4.551,  18.204,     8.306,  14.041],\n",
    "[4.551,     0,      12.714,     3.918,  12.551],\n",
    "[18.204,    12.714, 0,          8.633,  8.735],\n",
    "[8.306,     3.918,  8.633,      0,      7.490],\n",
    "[14.041,    12.551, 8.735,      7.490,  0]])\n",
    "\n",
    "eigenvalues, eigenvectors, V_T = PCoA(a)"
   ]
  },
  {
   "cell_type": "code",
   "execution_count": 300,
   "metadata": {},
   "outputs": [],
   "source": [
    "eigvals,coordinates,proportion_explained = skbio_pcoa(a)"
   ]
  },
  {
   "cell_type": "code",
   "execution_count": 301,
   "metadata": {},
   "outputs": [
    {
     "data": {
      "text/plain": [
       "array([[-8.92725513,  1.49118279, -0.        ,  0.        ,  0.        ],\n",
       "       [-4.55924243, -3.0239592 , -0.        ,  0.        ,  0.        ],\n",
       "       [ 8.70772294, -3.05798329, -0.        ,  0.        ,  0.        ],\n",
       "       [-0.1801753 , -0.65924254, -0.        ,  0.        ,  0.        ],\n",
       "       [ 4.95894992,  5.25000224, -0.        ,  0.        ,  0.        ]])"
      ]
     },
     "execution_count": 301,
     "metadata": {},
     "output_type": "execute_result"
    }
   ],
   "source": [
    "coordinates"
   ]
  },
  {
   "cell_type": "code",
   "execution_count": 302,
   "metadata": {},
   "outputs": [
    {
     "data": {
      "image/png": "[encoded data removed]",
      "text/plain": [
       "<Figure size 640x480 with 1 Axes>"
      ]
     },
     "metadata": {},
     "output_type": "display_data"
    }
   ],
   "source": [
    "plt.scatter(coordinates[:,0],coordinates[:,1])\n",
    "labels= ['kites','airplanes','cats','birds','deer']\n",
    "for i in range(len(labels)):\n",
    "    plt.text(coordinates[i,0],coordinates[i,1],labels[i])"
   ]
  },
  {
   "cell_type": "code",
   "execution_count": null,
   "metadata": {},
   "outputs": [],
   "source": []
  },
  {
   "cell_type": "code",
   "execution_count": 260,
   "metadata": {},
   "outputs": [
    {
     "data": {
      "text/plain": [
       "array([  0.        ,   0.        ,   0.        ,  48.71634135,\n",
       "       200.93066193])"
      ]
     },
     "execution_count": 260,
     "metadata": {},
     "output_type": "execute_result"
    }
   ],
   "source": [
    "pos_eigenvectors = eigenvectors.copy()\n",
    "pos_eigenvectors[np.where(pos_eigenvectors<=0)] = 0\n",
    "pos_eigenvalues = eigenvalues.copy()\n",
    "pos_eigenvalues[np.where(pos_eigenvalues<=0)] = 0\n",
    "pos_eigenvalues"
   ]
  },
  {
   "cell_type": "code",
   "execution_count": 261,
   "metadata": {},
   "outputs": [
    {
     "data": {
      "text/plain": [
       "array([-1.32164506e+01, -4.49261892e+00, -7.99033800e-15,  4.87163413e+01,\n",
       "        2.00930662e+02])"
      ]
     },
     "execution_count": 261,
     "metadata": {},
     "output_type": "execute_result"
    }
   ],
   "source": [
    "eigenvalues"
   ]
  },
  {
   "cell_type": "code",
   "execution_count": 262,
   "metadata": {},
   "outputs": [],
   "source": [
    "coordinates = pos_eigenvectors * np.sqrt(pos_eigenvalues)"
   ]
  },
  {
   "cell_type": "code",
   "execution_count": 263,
   "metadata": {},
   "outputs": [
    {
     "data": {
      "text/plain": [
       "array([[0.        , 0.        , 0.        , 1.49118279, 0.        ],\n",
       "       [0.        , 0.        , 0.        , 0.        , 0.        ],\n",
       "       [0.        , 0.        , 0.        , 0.        , 8.70772294],\n",
       "       [0.        , 0.        , 0.        , 0.        , 0.        ],\n",
       "       [0.        , 0.        , 0.        , 5.25000224, 4.95894992]])"
      ]
     },
     "execution_count": 263,
     "metadata": {},
     "output_type": "execute_result"
    }
   ],
   "source": [
    "coordinates"
   ]
  },
  {
   "cell_type": "code",
   "execution_count": 264,
   "metadata": {},
   "outputs": [],
   "source": [
    "labels= ['kites','airplanes','cats','birds','deer']"
   ]
  },
  {
   "cell_type": "code",
   "execution_count": 265,
   "metadata": {},
   "outputs": [
    {
     "data": {
      "image/png": "[encoded data removed]",
      "text/plain": [
       "<Figure size 640x480 with 1 Axes>"
      ]
     },
     "metadata": {},
     "output_type": "display_data"
    }
   ],
   "source": [
    "for i in range(len(labels)):\n",
    "    plt.scatter(V_T[i,0],V_T[i,1])\n",
    "    plt.text(V_T[i,0],V_T[i,1],labels[i])"
   ]
  },
  {
   "cell_type": "code",
   "execution_count": 266,
   "metadata": {},
   "outputs": [
    {
     "data": {
      "text/plain": [
       "array([-7.8181138 ,  7.7315136 , -5.92765264,  2.48144826,  3.53280458])"
      ]
     },
     "execution_count": 266,
     "metadata": {},
     "output_type": "execute_result"
    }
   ],
   "source": [
    "V_T[:,0]"
   ]
  },
  {
   "cell_type": "code",
   "execution_count": 267,
   "metadata": {},
   "outputs": [],
   "source": [
    "from sklearn.manifold import MDS"
   ]
  },
  {
   "cell_type": "code",
   "execution_count": 268,
   "metadata": {},
   "outputs": [],
   "source": [
    "# PCoA using MDS\n",
    "mds = MDS(n_components=2, dissimilarity='precomputed', random_state=1)\n",
    "coordinates = mds.fit_transform(HM_neighb_matr)\n",
    "# coordinates"
   ]
  },
  {
   "cell_type": "code",
   "execution_count": 269,
   "metadata": {},
   "outputs": [],
   "source": [
    "# MDS(n_components=2, dissimilarity='precomputed').fit_transform(HM_neighb_matr)"
   ]
  },
  {
   "cell_type": "code",
   "execution_count": 270,
   "metadata": {},
   "outputs": [],
   "source": [
    "# MDS(n_components=3, dissimilarity='precomputed').fit_transform(HM_neighb_matr)"
   ]
  },
  {
   "cell_type": "code",
   "execution_count": 271,
   "metadata": {},
   "outputs": [],
   "source": [
    "labels = ['HM-PL','HM-PW-A','HM-PW-B','HM-PW-C','HM-PW-D','HM-PW-E','HM-PW-F','HM-PW-G','HM-PW-H',]"
   ]
  },
  {
   "cell_type": "code",
   "execution_count": 272,
   "metadata": {},
   "outputs": [
    {
     "data": {
      "image/png": "[encoded data removed]",
      "text/plain": [
       "<Figure size 640x480 with 1 Axes>"
      ]
     },
     "metadata": {},
     "output_type": "display_data"
    }
   ],
   "source": [
    "for i in range(len(labels)):\n",
    "    plt.scatter(coordinates[i,0],coordinates[i,1])\n",
    "    plt.text(coordinates[i,0],coordinates[i,1],labels[i])"
   ]
  },
  {
   "cell_type": "code",
   "execution_count": 273,
   "metadata": {},
   "outputs": [
    {
     "data": {
      "image/png": "[encoded data removed]",
      "text/plain": [
       "<Figure size 640x480 with 1 Axes>"
      ]
     },
     "metadata": {},
     "output_type": "display_data"
    }
   ],
   "source": [
    "eigenvalues, eigenvectors, V_T = PCoA(HM_neighb_matr,r=9)\n",
    "for i in range(len(labels)):\n",
    "    plt.scatter(V_T[i,0],V_T[i,1])\n",
    "    plt.text(V_T[i,0],V_T[i,1],labels[i])"
   ]
  },
  {
   "cell_type": "code",
   "execution_count": null,
   "metadata": {},
   "outputs": [],
   "source": []
  },
  {
   "cell_type": "code",
   "execution_count": 274,
   "metadata": {},
   "outputs": [
    {
     "data": {
      "text/html": [
       "<div>\n",
       "<style scoped>\n",
       "    .dataframe tbody tr th:only-of-type {\n",
       "        vertical-align: middle;\n",
       "    }\n",
       "\n",
       "    .dataframe tbody tr th {\n",
       "        vertical-align: top;\n",
       "    }\n",
       "\n",
       "    .dataframe thead th {\n",
       "        text-align: right;\n",
       "    }\n",
       "</style>\n",
       "<table border=\"1\" class=\"dataframe\">\n",
       "  <thead>\n",
       "    <tr style=\"text-align: right;\">\n",
       "      <th></th>\n",
       "      <th>0</th>\n",
       "      <th>1</th>\n",
       "      <th>2</th>\n",
       "      <th>3</th>\n",
       "    </tr>\n",
       "  </thead>\n",
       "  <tbody>\n",
       "    <tr>\n",
       "      <th>0</th>\n",
       "      <td>0.0000</td>\n",
       "      <td>3.1416</td>\n",
       "      <td>0.7854</td>\n",
       "      <td>1.5708</td>\n",
       "    </tr>\n",
       "    <tr>\n",
       "      <th>1</th>\n",
       "      <td>3.1416</td>\n",
       "      <td>0.0000</td>\n",
       "      <td>2.3562</td>\n",
       "      <td>1.5708</td>\n",
       "    </tr>\n",
       "    <tr>\n",
       "      <th>2</th>\n",
       "      <td>0.7854</td>\n",
       "      <td>2.3562</td>\n",
       "      <td>0.0000</td>\n",
       "      <td>2.3562</td>\n",
       "    </tr>\n",
       "    <tr>\n",
       "      <th>3</th>\n",
       "      <td>1.5708</td>\n",
       "      <td>1.5708</td>\n",
       "      <td>2.3562</td>\n",
       "      <td>0.0000</td>\n",
       "    </tr>\n",
       "  </tbody>\n",
       "</table>\n",
       "</div>"
      ],
      "text/plain": [
       "        0       1       2       3\n",
       "0  0.0000  3.1416  0.7854  1.5708\n",
       "1  3.1416  0.0000  2.3562  1.5708\n",
       "2  0.7854  2.3562  0.0000  2.3562\n",
       "3  1.5708  1.5708  2.3562  0.0000"
      ]
     },
     "execution_count": 274,
     "metadata": {},
     "output_type": "execute_result"
    }
   ],
   "source": [
    "matrix = np.array([\n",
    "    [0,     3.1416,0.7854,1.5708],\n",
    "    [3.1416,0,     2.3562,1.5708],\n",
    "    [0.7854,2.3562,0,     2.3562],\n",
    "    [1.5708,1.5708,2.3562,0     ],\n",
    "])\n",
    "\n",
    "# matrix = matrix = np.array([\n",
    "#     [0, 1,  1,  1],\n",
    "#     [1, 0,  1,  1],\n",
    "#     [1, 1,  0,  1],\n",
    "#     [1, 1,  1,  0],\n",
    "# ])\n",
    "\n",
    "\n",
    "pd.DataFrame(matrix)"
   ]
  },
  {
   "cell_type": "code",
   "execution_count": null,
   "metadata": {},
   "outputs": [],
   "source": []
  },
  {
   "cell_type": "code",
   "execution_count": 275,
   "metadata": {},
   "outputs": [],
   "source": [
    "# https://lookmanolowo.web.illinois.edu/2024/03/13/principal-coordinate-analysis-hands-on/\n",
    "r = 4\n",
    "# square the matrix to emphasize the hidden structure within the dataset\n",
    "D = matrix.copy()\n",
    "D2 = np.pow(D,2)\n",
    "\n",
    "n = len(D)\n",
    "\n",
    "# get centering matrix A\n",
    "J = np.ones_like(D)\n",
    "I = np.diag(np.diag(J))\n",
    "A = I - (J / n)\n",
    "\n",
    "# get W, which encodes the variance and structure of the original dataset as represented by the squared distances, after being adjusted by double-centering\n",
    "W = -.5 * np.linalg.multi_dot([A, D2, A.T])\n",
    "\n",
    "# find the eigenvalues\n",
    "eigenvalues, eigenvectors = eigh(W)\n",
    "\n",
    "I = I[:r,:r]\n",
    "Λ_s = eigenvalues[:r] * I\n",
    "\n",
    "U_s = eigenvectors[:,:r]\n",
    "V_T = np.dot(U_s,Λ_s)\n"
   ]
  },
  {
   "cell_type": "code",
   "execution_count": 276,
   "metadata": {},
   "outputs": [
    {
     "data": {
      "text/html": [
       "<div>\n",
       "<style scoped>\n",
       "    .dataframe tbody tr th:only-of-type {\n",
       "        vertical-align: middle;\n",
       "    }\n",
       "\n",
       "    .dataframe tbody tr th {\n",
       "        vertical-align: top;\n",
       "    }\n",
       "\n",
       "    .dataframe thead th {\n",
       "        text-align: right;\n",
       "    }\n",
       "</style>\n",
       "<table border=\"1\" class=\"dataframe\">\n",
       "  <thead>\n",
       "    <tr style=\"text-align: right;\">\n",
       "      <th></th>\n",
       "      <th>0</th>\n",
       "      <th>1</th>\n",
       "      <th>2</th>\n",
       "      <th>3</th>\n",
       "    </tr>\n",
       "  </thead>\n",
       "  <tbody>\n",
       "    <tr>\n",
       "      <th>0</th>\n",
       "      <td>-1.203952</td>\n",
       "      <td>-0.000000e+00</td>\n",
       "      <td>0.00000</td>\n",
       "      <td>0.000000</td>\n",
       "    </tr>\n",
       "    <tr>\n",
       "      <th>1</th>\n",
       "      <td>-0.000000</td>\n",
       "      <td>-3.330669e-15</td>\n",
       "      <td>0.00000</td>\n",
       "      <td>0.000000</td>\n",
       "    </tr>\n",
       "    <tr>\n",
       "      <th>2</th>\n",
       "      <td>-0.000000</td>\n",
       "      <td>-0.000000e+00</td>\n",
       "      <td>2.22342</td>\n",
       "      <td>0.000000</td>\n",
       "    </tr>\n",
       "    <tr>\n",
       "      <th>3</th>\n",
       "      <td>-0.000000</td>\n",
       "      <td>-0.000000e+00</td>\n",
       "      <td>0.00000</td>\n",
       "      <td>5.611703</td>\n",
       "    </tr>\n",
       "  </tbody>\n",
       "</table>\n",
       "</div>"
      ],
      "text/plain": [
       "          0             1        2         3\n",
       "0 -1.203952 -0.000000e+00  0.00000  0.000000\n",
       "1 -0.000000 -3.330669e-15  0.00000  0.000000\n",
       "2 -0.000000 -0.000000e+00  2.22342  0.000000\n",
       "3 -0.000000 -0.000000e+00  0.00000  5.611703"
      ]
     },
     "execution_count": 276,
     "metadata": {},
     "output_type": "execute_result"
    }
   ],
   "source": [
    "pd.DataFrame(Λ_s)"
   ]
  },
  {
   "cell_type": "code",
   "execution_count": 277,
   "metadata": {},
   "outputs": [
    {
     "data": {
      "text/plain": [
       "array([-1.20395187e+00, -3.33066907e-15,  2.22342015e+00,  5.61170319e+00])"
      ]
     },
     "execution_count": 277,
     "metadata": {},
     "output_type": "execute_result"
    }
   ],
   "source": [
    "eigenvalues"
   ]
  },
  {
   "cell_type": "code",
   "execution_count": 278,
   "metadata": {},
   "outputs": [
    {
     "data": {
      "text/plain": [
       "array([2.22342015, 5.61170319])"
      ]
     },
     "execution_count": 278,
     "metadata": {},
     "output_type": "execute_result"
    }
   ],
   "source": [
    "idx = eigenvalues > 0\n",
    "eigenvalues[idx]"
   ]
  },
  {
   "cell_type": "code",
   "execution_count": 279,
   "metadata": {},
   "outputs": [
    {
     "data": {
      "text/plain": [
       "array([[ 0.59304984,  0.5       , -0.26108863,  0.57456472],\n",
       "       [ 0.39725483,  0.5       ,  0.30673769, -0.70576242],\n",
       "       [-0.48712644,  0.5       ,  0.62397637,  0.3512283 ],\n",
       "       [-0.50317822,  0.5       , -0.66962543, -0.2200306 ]])"
      ]
     },
     "execution_count": 279,
     "metadata": {},
     "output_type": "execute_result"
    }
   ],
   "source": [
    "eigenvectors"
   ]
  },
  {
   "cell_type": "code",
   "execution_count": 280,
   "metadata": {},
   "outputs": [
    {
     "data": {
      "text/plain": [
       "array([[-0.48712644,  0.5       ,  0.62397637,  0.3512283 ],\n",
       "       [-0.50317822,  0.5       , -0.66962543, -0.2200306 ]])"
      ]
     },
     "execution_count": 280,
     "metadata": {},
     "output_type": "execute_result"
    }
   ],
   "source": [
    "new = eigenvectors[idx]\n",
    "new"
   ]
  },
  {
   "cell_type": "code",
   "execution_count": 281,
   "metadata": {},
   "outputs": [
    {
     "data": {
      "image/png": "[encoded data removed]",
      "text/plain": [
       "<Figure size 640x480 with 1 Axes>"
      ]
     },
     "metadata": {},
     "output_type": "display_data"
    }
   ],
   "source": [
    "labels = ['a','b','c','d']\n",
    "\n",
    "if len(new[:,0]) > 2:\n",
    "    fig = plt.figure()\n",
    "    ax = fig.add_subplot(projection='3d')\n",
    "\n",
    "    for i in range(len(new[0,:])):\n",
    "        ax.scatter(new[0,i],new[1,i],new[2,i])\n",
    "        ax.text(new[0,i],new[1,i],new[2,i],labels[i])\n",
    "\n",
    "else:\n",
    "    fig, ax = plt.subplots()\n",
    "\n",
    "    for i in range(len(new[0,:])):\n",
    "        ax.scatter(new[0,i],new[1,i],)\n",
    "        ax.text(new[0,i],new[1,i],labels[i])"
   ]
  },
  {
   "cell_type": "code",
   "execution_count": 282,
   "metadata": {},
   "outputs": [],
   "source": [
    "dist = np.zeros_like(matrix)\n",
    "\n",
    "for i in range(len(labels)):\n",
    "    for j in range(len(labels)):\n",
    "        dist[i,j] = np.linalg.norm(new[:,i]-new[:,j])"
   ]
  },
  {
   "cell_type": "code",
   "execution_count": 283,
   "metadata": {},
   "outputs": [
    {
     "data": {
      "text/plain": [
       "array([[0.        , 1.40740369, 1.12350084, 0.88487923],\n",
       "       [1.40740369, 0.        , 1.17617761, 0.73523948],\n",
       "       [1.12350084, 1.17617761, 0.        , 0.52585836],\n",
       "       [0.88487923, 0.73523948, 0.52585836, 0.        ]])"
      ]
     },
     "execution_count": 283,
     "metadata": {},
     "output_type": "execute_result"
    }
   ],
   "source": [
    "dist"
   ]
  },
  {
   "cell_type": "code",
   "execution_count": 284,
   "metadata": {},
   "outputs": [
    {
     "data": {
      "text/plain": [
       "array([[-0.48712644,  0.5       ,  0.62397637,  0.3512283 ],\n",
       "       [-0.50317822,  0.5       , -0.66962543, -0.2200306 ]])"
      ]
     },
     "execution_count": 284,
     "metadata": {},
     "output_type": "execute_result"
    }
   ],
   "source": [
    "new"
   ]
  },
  {
   "cell_type": "code",
   "execution_count": 285,
   "metadata": {},
   "outputs": [
    {
     "data": {
      "text/plain": [
       "array([-0.48712644, -0.50317822])"
      ]
     },
     "execution_count": 285,
     "metadata": {},
     "output_type": "execute_result"
    }
   ],
   "source": [
    "new[:,0]"
   ]
  },
  {
   "cell_type": "code",
   "execution_count": 286,
   "metadata": {},
   "outputs": [
    {
     "data": {
      "text/plain": [
       "array([-0.48712644, -0.50317822])"
      ]
     },
     "execution_count": 286,
     "metadata": {},
     "output_type": "execute_result"
    }
   ],
   "source": [
    "new[:,0]"
   ]
  },
  {
   "cell_type": "code",
   "execution_count": null,
   "metadata": {},
   "outputs": [],
   "source": []
  },
  {
   "cell_type": "code",
   "execution_count": null,
   "metadata": {},
   "outputs": [],
   "source": []
  },
  {
   "cell_type": "code",
   "execution_count": 287,
   "metadata": {},
   "outputs": [
    {
     "name": "stdout",
     "output_type": "stream",
     "text": [
      "               city  Athens  Barcelona  Brussels  Calais  Cherbourg  Cologne  \\\n",
      "0            Athens       0       3313      2963    3175       3339     2762   \n",
      "1         Barcelona    3313          0      1318    1326       1294     1498   \n",
      "2          Brussels    2963       1318         0     204        583      206   \n",
      "3            Calais    3175       1326       204       0        460      409   \n",
      "4         Cherbourg    3339       1294       583     460          0      785   \n",
      "5           Cologne    2762       1498       206     409        785        0   \n",
      "6        Copenhagen    3276       2218       966    1136       1545      760   \n",
      "7            Geneva    2610        803       677     747        853     1662   \n",
      "8         Gibraltar    4485       1172      2256    2224       2047     2436   \n",
      "9           Hamburg    2977       2018       597     714       1115      460   \n",
      "10  Hook of Holland    3030       1490       172     330        731      269   \n",
      "11           Lisbon    4532       1305      2084    2052       1827     2290   \n",
      "12            Lyons    2753        645       690     739        789      714   \n",
      "13           Madrid    3949        636      1558    1550       1347     1764   \n",
      "14       Marseilles    2865        521      1011    1059       1101     1035   \n",
      "15            Milan    2282       1014       925    1077       1209      911   \n",
      "16           Munich    2179       1365       747     977       1160      583   \n",
      "17            Paris    3000       1033       285     280        340      465   \n",
      "18             Rome     817       1460      1511    1662       1794     1497   \n",
      "19        Stockholm    3927       2868      1616    1786       2196     1403   \n",
      "20           Vienna    1991       1802      1175    1381       1588      937   \n",
      "\n",
      "    Copenhagen  Geneva  Gibraltar  ...  Lisbon  Lyons  Madrid  Marseilles  \\\n",
      "0         3276    2610       4485  ...    4532   2753    3949        2865   \n",
      "1         2218     803       1172  ...    1305    645     636         521   \n",
      "2          966     677       2256  ...    2084    690    1558        1011   \n",
      "3         1136     747       2224  ...    2052    739    1550        1059   \n",
      "4         1545     853       2047  ...    1827    789    1347        1101   \n",
      "5          760    1662       2436  ...    2290    714    1764        1035   \n",
      "6            0    1418       3196  ...    2971   1458    2498        1778   \n",
      "7         1418       0       1975  ...    1936    158    1439         425   \n",
      "8         3196    1975          0  ...     676   1817     698        1693   \n",
      "9          460    1118       2897  ...    2671   1159    2198        1479   \n",
      "10         269     895       2428  ...    2280    863    1730        1183   \n",
      "11        2971    1936        676  ...       0   1178     668        1762   \n",
      "12        1458     158       1817  ...    1178      0    1281         320   \n",
      "13        2498    1439        698  ...     668   1281       0        1157   \n",
      "14        1778     425       1693  ...    1762    320    1157           0   \n",
      "15        1537     328       2185  ...    2250    328    1724         618   \n",
      "16        1104     591       2565  ...    2507    724    2010        1109   \n",
      "17        1176     513       1971  ...    1799    471    1273         792   \n",
      "18        2050     995       2631  ...    2700   1048    2097        1011   \n",
      "19         650    2068       3886  ...    3231   2108    3188        2428   \n",
      "20        1455    1019       2974  ...    2937   1157    2409        1363   \n",
      "\n",
      "    Milan  Munich  Paris  Rome  Stockholm  Vienna  \n",
      "0    2282    2179   3000   817       3927    1991  \n",
      "1    1014    1365   1033  1460       2868    1802  \n",
      "2     925     747    285  1511       1616    1175  \n",
      "3    1077     977    280  1662       1786    1381  \n",
      "4    1209    1160    340  1794       2196    1588  \n",
      "5     911     583    465  1497       1403     937  \n",
      "6    1537    1104   1176  2050        650    1455  \n",
      "7     328     591    513   995       2068    1019  \n",
      "8    2185    2565   1971  2631       3886    2974  \n",
      "9    1238     805    877  1751        949    1155  \n",
      "10   1098     851    457  1683       1500    1205  \n",
      "11   2250    2507   1799  2700       3231    2937  \n",
      "12    328     724    471  1048       2108    1157  \n",
      "13   1724    2010   1273  2097       3188    2409  \n",
      "14    618    1109    792  1011       2428    1363  \n",
      "15      0     331    856   586       2187     898  \n",
      "16    331       0    821   946       1754     428  \n",
      "17    856     821      0  1476       1827    1249  \n",
      "18    586     946   1476     0       2707    1209  \n",
      "19   2187    1754   1827  2707          0    2105  \n",
      "20    898     428   1249  1209       2105       0  \n",
      "\n",
      "[21 rows x 22 columns]\n",
      "\n",
      "(21, 21)\n",
      "\n",
      "['Athens' 'Barcelona' 'Brussels' 'Calais' 'Cherbourg' 'Cologne'\n",
      " 'Copenhagen' 'Geneva' 'Gibraltar' 'Hamburg' 'Hook of Holland' 'Lisbon'\n",
      " 'Lyons' 'Madrid' 'Marseilles' 'Milan' 'Munich' 'Paris' 'Rome' 'Stockholm'\n",
      " 'Vienna']\n"
     ]
    }
   ],
   "source": [
    "# Pairwise distance between European cities\n",
    "url = 'https://media.githubusercontent.com/media/neurospin/pystatsml/refs/heads/master/datasets/eurodist.csv'\n",
    "df = pd.read_csv(url)\n",
    "print(df)\n",
    "print()\n",
    "## Array with cities:\n",
    "city = np.array(df[\"city\"])\n",
    "\n",
    "## Squareform distance matrix\n",
    "D = np.array(df)[:,1:]\n",
    "print(D.shape)\n",
    "print()\n",
    "print(city)"
   ]
  },
  {
   "cell_type": "code",
   "execution_count": null,
   "metadata": {},
   "outputs": [],
   "source": []
  },
  {
   "cell_type": "code",
   "execution_count": 288,
   "metadata": {},
   "outputs": [
    {
     "data": {
      "text/plain": [
       "(21, 21)"
      ]
     },
     "execution_count": 288,
     "metadata": {},
     "output_type": "execute_result"
    }
   ],
   "source": [
    "D.shape"
   ]
  },
  {
   "cell_type": "code",
   "execution_count": 289,
   "metadata": {},
   "outputs": [
    {
     "data": {
      "text/plain": [
       "'Barcelona'"
      ]
     },
     "execution_count": 289,
     "metadata": {},
     "output_type": "execute_result"
    }
   ],
   "source": [
    "city[1]"
   ]
  },
  {
   "cell_type": "code",
   "execution_count": 290,
   "metadata": {},
   "outputs": [
    {
     "data": {
      "image/png": "[encoded data removed]",
      "text/plain": [
       "<Figure size 640x480 with 1 Axes>"
      ]
     },
     "metadata": {},
     "output_type": "display_data"
    }
   ],
   "source": [
    "mds_2d = MDS(n_components=2, dissimilarity='precomputed').fit_transform(D)\n",
    "\n",
    "\n",
    "plt.scatter(mds_2d[:,0], mds_2d[:,1], color='red')\n",
    "for i in range(len(city)):\n",
    "    plt.text(mds_2d[i,0], mds_2d[i,1], city[i])\n",
    "\n",
    "plt.xlabel('MDS axis 1')\n",
    "plt.ylabel('MDS axis 2')\n",
    "plt.show()"
   ]
  },
  {
   "cell_type": "code",
   "execution_count": 291,
   "metadata": {},
   "outputs": [
    {
     "data": {
      "text/plain": [
       "<matplotlib.collections.PathCollection at 0x2102cbc5450>"
      ]
     },
     "execution_count": 291,
     "metadata": {},
     "output_type": "execute_result"
    },
    {
     "data": {
      "image/png": "[encoded data removed]",
      "text/plain": [
       "<Figure size 640x480 with 1 Axes>"
      ]
     },
     "metadata": {},
     "output_type": "display_data"
    }
   ],
   "source": [
    "\n",
    "plt.scatter(mds_2d[:,0], mds_2d[:,1], color='red')"
   ]
  },
  {
   "cell_type": "code",
   "execution_count": 292,
   "metadata": {},
   "outputs": [],
   "source": [
    "from scipy.linalg import eigh"
   ]
  },
  {
   "cell_type": "code",
   "execution_count": 293,
   "metadata": {},
   "outputs": [
    {
     "data": {
      "text/html": [
       "<div>\n",
       "<style scoped>\n",
       "    .dataframe tbody tr th:only-of-type {\n",
       "        vertical-align: middle;\n",
       "    }\n",
       "\n",
       "    .dataframe tbody tr th {\n",
       "        vertical-align: top;\n",
       "    }\n",
       "\n",
       "    .dataframe thead th {\n",
       "        text-align: right;\n",
       "    }\n",
       "</style>\n",
       "<table border=\"1\" class=\"dataframe\">\n",
       "  <thead>\n",
       "    <tr style=\"text-align: right;\">\n",
       "      <th></th>\n",
       "      <th>0</th>\n",
       "      <th>1</th>\n",
       "      <th>2</th>\n",
       "      <th>3</th>\n",
       "      <th>4</th>\n",
       "      <th>5</th>\n",
       "      <th>6</th>\n",
       "      <th>7</th>\n",
       "      <th>8</th>\n",
       "      <th>9</th>\n",
       "      <th>...</th>\n",
       "      <th>11</th>\n",
       "      <th>12</th>\n",
       "      <th>13</th>\n",
       "      <th>14</th>\n",
       "      <th>15</th>\n",
       "      <th>16</th>\n",
       "      <th>17</th>\n",
       "      <th>18</th>\n",
       "      <th>19</th>\n",
       "      <th>20</th>\n",
       "    </tr>\n",
       "  </thead>\n",
       "  <tbody>\n",
       "    <tr>\n",
       "      <th>0</th>\n",
       "      <td>0</td>\n",
       "      <td>3313</td>\n",
       "      <td>2963</td>\n",
       "      <td>3175</td>\n",
       "      <td>3339</td>\n",
       "      <td>2762</td>\n",
       "      <td>3276</td>\n",
       "      <td>2610</td>\n",
       "      <td>4485</td>\n",
       "      <td>2977</td>\n",
       "      <td>...</td>\n",
       "      <td>4532</td>\n",
       "      <td>2753</td>\n",
       "      <td>3949</td>\n",
       "      <td>2865</td>\n",
       "      <td>2282</td>\n",
       "      <td>2179</td>\n",
       "      <td>3000</td>\n",
       "      <td>817</td>\n",
       "      <td>3927</td>\n",
       "      <td>1991</td>\n",
       "    </tr>\n",
       "    <tr>\n",
       "      <th>1</th>\n",
       "      <td>3313</td>\n",
       "      <td>0</td>\n",
       "      <td>1318</td>\n",
       "      <td>1326</td>\n",
       "      <td>1294</td>\n",
       "      <td>1498</td>\n",
       "      <td>2218</td>\n",
       "      <td>803</td>\n",
       "      <td>1172</td>\n",
       "      <td>2018</td>\n",
       "      <td>...</td>\n",
       "      <td>1305</td>\n",
       "      <td>645</td>\n",
       "      <td>636</td>\n",
       "      <td>521</td>\n",
       "      <td>1014</td>\n",
       "      <td>1365</td>\n",
       "      <td>1033</td>\n",
       "      <td>1460</td>\n",
       "      <td>2868</td>\n",
       "      <td>1802</td>\n",
       "    </tr>\n",
       "    <tr>\n",
       "      <th>2</th>\n",
       "      <td>2963</td>\n",
       "      <td>1318</td>\n",
       "      <td>0</td>\n",
       "      <td>204</td>\n",
       "      <td>583</td>\n",
       "      <td>206</td>\n",
       "      <td>966</td>\n",
       "      <td>677</td>\n",
       "      <td>2256</td>\n",
       "      <td>597</td>\n",
       "      <td>...</td>\n",
       "      <td>2084</td>\n",
       "      <td>690</td>\n",
       "      <td>1558</td>\n",
       "      <td>1011</td>\n",
       "      <td>925</td>\n",
       "      <td>747</td>\n",
       "      <td>285</td>\n",
       "      <td>1511</td>\n",
       "      <td>1616</td>\n",
       "      <td>1175</td>\n",
       "    </tr>\n",
       "    <tr>\n",
       "      <th>3</th>\n",
       "      <td>3175</td>\n",
       "      <td>1326</td>\n",
       "      <td>204</td>\n",
       "      <td>0</td>\n",
       "      <td>460</td>\n",
       "      <td>409</td>\n",
       "      <td>1136</td>\n",
       "      <td>747</td>\n",
       "      <td>2224</td>\n",
       "      <td>714</td>\n",
       "      <td>...</td>\n",
       "      <td>2052</td>\n",
       "      <td>739</td>\n",
       "      <td>1550</td>\n",
       "      <td>1059</td>\n",
       "      <td>1077</td>\n",
       "      <td>977</td>\n",
       "      <td>280</td>\n",
       "      <td>1662</td>\n",
       "      <td>1786</td>\n",
       "      <td>1381</td>\n",
       "    </tr>\n",
       "    <tr>\n",
       "      <th>4</th>\n",
       "      <td>3339</td>\n",
       "      <td>1294</td>\n",
       "      <td>583</td>\n",
       "      <td>460</td>\n",
       "      <td>0</td>\n",
       "      <td>785</td>\n",
       "      <td>1545</td>\n",
       "      <td>853</td>\n",
       "      <td>2047</td>\n",
       "      <td>1115</td>\n",
       "      <td>...</td>\n",
       "      <td>1827</td>\n",
       "      <td>789</td>\n",
       "      <td>1347</td>\n",
       "      <td>1101</td>\n",
       "      <td>1209</td>\n",
       "      <td>1160</td>\n",
       "      <td>340</td>\n",
       "      <td>1794</td>\n",
       "      <td>2196</td>\n",
       "      <td>1588</td>\n",
       "    </tr>\n",
       "    <tr>\n",
       "      <th>5</th>\n",
       "      <td>2762</td>\n",
       "      <td>1498</td>\n",
       "      <td>206</td>\n",
       "      <td>409</td>\n",
       "      <td>785</td>\n",
       "      <td>0</td>\n",
       "      <td>760</td>\n",
       "      <td>1662</td>\n",
       "      <td>2436</td>\n",
       "      <td>460</td>\n",
       "      <td>...</td>\n",
       "      <td>2290</td>\n",
       "      <td>714</td>\n",
       "      <td>1764</td>\n",
       "      <td>1035</td>\n",
       "      <td>911</td>\n",
       "      <td>583</td>\n",
       "      <td>465</td>\n",
       "      <td>1497</td>\n",
       "      <td>1403</td>\n",
       "      <td>937</td>\n",
       "    </tr>\n",
       "    <tr>\n",
       "      <th>6</th>\n",
       "      <td>3276</td>\n",
       "      <td>2218</td>\n",
       "      <td>966</td>\n",
       "      <td>1136</td>\n",
       "      <td>1545</td>\n",
       "      <td>760</td>\n",
       "      <td>0</td>\n",
       "      <td>1418</td>\n",
       "      <td>3196</td>\n",
       "      <td>460</td>\n",
       "      <td>...</td>\n",
       "      <td>2971</td>\n",
       "      <td>1458</td>\n",
       "      <td>2498</td>\n",
       "      <td>1778</td>\n",
       "      <td>1537</td>\n",
       "      <td>1104</td>\n",
       "      <td>1176</td>\n",
       "      <td>2050</td>\n",
       "      <td>650</td>\n",
       "      <td>1455</td>\n",
       "    </tr>\n",
       "    <tr>\n",
       "      <th>7</th>\n",
       "      <td>2610</td>\n",
       "      <td>803</td>\n",
       "      <td>677</td>\n",
       "      <td>747</td>\n",
       "      <td>853</td>\n",
       "      <td>1662</td>\n",
       "      <td>1418</td>\n",
       "      <td>0</td>\n",
       "      <td>1975</td>\n",
       "      <td>1118</td>\n",
       "      <td>...</td>\n",
       "      <td>1936</td>\n",
       "      <td>158</td>\n",
       "      <td>1439</td>\n",
       "      <td>425</td>\n",
       "      <td>328</td>\n",
       "      <td>591</td>\n",
       "      <td>513</td>\n",
       "      <td>995</td>\n",
       "      <td>2068</td>\n",
       "      <td>1019</td>\n",
       "    </tr>\n",
       "    <tr>\n",
       "      <th>8</th>\n",
       "      <td>4485</td>\n",
       "      <td>1172</td>\n",
       "      <td>2256</td>\n",
       "      <td>2224</td>\n",
       "      <td>2047</td>\n",
       "      <td>2436</td>\n",
       "      <td>3196</td>\n",
       "      <td>1975</td>\n",
       "      <td>0</td>\n",
       "      <td>2897</td>\n",
       "      <td>...</td>\n",
       "      <td>676</td>\n",
       "      <td>1817</td>\n",
       "      <td>698</td>\n",
       "      <td>1693</td>\n",
       "      <td>2185</td>\n",
       "      <td>2565</td>\n",
       "      <td>1971</td>\n",
       "      <td>2631</td>\n",
       "      <td>3886</td>\n",
       "      <td>2974</td>\n",
       "    </tr>\n",
       "    <tr>\n",
       "      <th>9</th>\n",
       "      <td>2977</td>\n",
       "      <td>2018</td>\n",
       "      <td>597</td>\n",
       "      <td>714</td>\n",
       "      <td>1115</td>\n",
       "      <td>460</td>\n",
       "      <td>460</td>\n",
       "      <td>1118</td>\n",
       "      <td>2897</td>\n",
       "      <td>0</td>\n",
       "      <td>...</td>\n",
       "      <td>2671</td>\n",
       "      <td>1159</td>\n",
       "      <td>2198</td>\n",
       "      <td>1479</td>\n",
       "      <td>1238</td>\n",
       "      <td>805</td>\n",
       "      <td>877</td>\n",
       "      <td>1751</td>\n",
       "      <td>949</td>\n",
       "      <td>1155</td>\n",
       "    </tr>\n",
       "    <tr>\n",
       "      <th>10</th>\n",
       "      <td>3030</td>\n",
       "      <td>1490</td>\n",
       "      <td>172</td>\n",
       "      <td>330</td>\n",
       "      <td>731</td>\n",
       "      <td>269</td>\n",
       "      <td>269</td>\n",
       "      <td>895</td>\n",
       "      <td>2428</td>\n",
       "      <td>550</td>\n",
       "      <td>...</td>\n",
       "      <td>2280</td>\n",
       "      <td>863</td>\n",
       "      <td>1730</td>\n",
       "      <td>1183</td>\n",
       "      <td>1098</td>\n",
       "      <td>851</td>\n",
       "      <td>457</td>\n",
       "      <td>1683</td>\n",
       "      <td>1500</td>\n",
       "      <td>1205</td>\n",
       "    </tr>\n",
       "    <tr>\n",
       "      <th>11</th>\n",
       "      <td>4532</td>\n",
       "      <td>1305</td>\n",
       "      <td>2084</td>\n",
       "      <td>2052</td>\n",
       "      <td>1827</td>\n",
       "      <td>2290</td>\n",
       "      <td>2971</td>\n",
       "      <td>1936</td>\n",
       "      <td>676</td>\n",
       "      <td>2671</td>\n",
       "      <td>...</td>\n",
       "      <td>0</td>\n",
       "      <td>1178</td>\n",
       "      <td>668</td>\n",
       "      <td>1762</td>\n",
       "      <td>2250</td>\n",
       "      <td>2507</td>\n",
       "      <td>1799</td>\n",
       "      <td>2700</td>\n",
       "      <td>3231</td>\n",
       "      <td>2937</td>\n",
       "    </tr>\n",
       "    <tr>\n",
       "      <th>12</th>\n",
       "      <td>2753</td>\n",
       "      <td>645</td>\n",
       "      <td>690</td>\n",
       "      <td>739</td>\n",
       "      <td>789</td>\n",
       "      <td>714</td>\n",
       "      <td>1458</td>\n",
       "      <td>158</td>\n",
       "      <td>1817</td>\n",
       "      <td>1159</td>\n",
       "      <td>...</td>\n",
       "      <td>1178</td>\n",
       "      <td>0</td>\n",
       "      <td>1281</td>\n",
       "      <td>320</td>\n",
       "      <td>328</td>\n",
       "      <td>724</td>\n",
       "      <td>471</td>\n",
       "      <td>1048</td>\n",
       "      <td>2108</td>\n",
       "      <td>1157</td>\n",
       "    </tr>\n",
       "    <tr>\n",
       "      <th>13</th>\n",
       "      <td>3949</td>\n",
       "      <td>636</td>\n",
       "      <td>1558</td>\n",
       "      <td>1550</td>\n",
       "      <td>1347</td>\n",
       "      <td>1764</td>\n",
       "      <td>2498</td>\n",
       "      <td>1439</td>\n",
       "      <td>698</td>\n",
       "      <td>2198</td>\n",
       "      <td>...</td>\n",
       "      <td>668</td>\n",
       "      <td>1281</td>\n",
       "      <td>0</td>\n",
       "      <td>1157</td>\n",
       "      <td>1724</td>\n",
       "      <td>2010</td>\n",
       "      <td>1273</td>\n",
       "      <td>2097</td>\n",
       "      <td>3188</td>\n",
       "      <td>2409</td>\n",
       "    </tr>\n",
       "    <tr>\n",
       "      <th>14</th>\n",
       "      <td>2865</td>\n",
       "      <td>521</td>\n",
       "      <td>1011</td>\n",
       "      <td>1059</td>\n",
       "      <td>1101</td>\n",
       "      <td>1035</td>\n",
       "      <td>1778</td>\n",
       "      <td>425</td>\n",
       "      <td>1693</td>\n",
       "      <td>1479</td>\n",
       "      <td>...</td>\n",
       "      <td>1762</td>\n",
       "      <td>320</td>\n",
       "      <td>1157</td>\n",
       "      <td>0</td>\n",
       "      <td>618</td>\n",
       "      <td>1109</td>\n",
       "      <td>792</td>\n",
       "      <td>1011</td>\n",
       "      <td>2428</td>\n",
       "      <td>1363</td>\n",
       "    </tr>\n",
       "    <tr>\n",
       "      <th>15</th>\n",
       "      <td>2282</td>\n",
       "      <td>1014</td>\n",
       "      <td>925</td>\n",
       "      <td>1077</td>\n",
       "      <td>1209</td>\n",
       "      <td>911</td>\n",
       "      <td>1537</td>\n",
       "      <td>328</td>\n",
       "      <td>2185</td>\n",
       "      <td>1238</td>\n",
       "      <td>...</td>\n",
       "      <td>2250</td>\n",
       "      <td>328</td>\n",
       "      <td>1724</td>\n",
       "      <td>618</td>\n",
       "      <td>0</td>\n",
       "      <td>331</td>\n",
       "      <td>856</td>\n",
       "      <td>586</td>\n",
       "      <td>2187</td>\n",
       "      <td>898</td>\n",
       "    </tr>\n",
       "    <tr>\n",
       "      <th>16</th>\n",
       "      <td>2179</td>\n",
       "      <td>1365</td>\n",
       "      <td>747</td>\n",
       "      <td>977</td>\n",
       "      <td>1160</td>\n",
       "      <td>583</td>\n",
       "      <td>1104</td>\n",
       "      <td>591</td>\n",
       "      <td>2565</td>\n",
       "      <td>805</td>\n",
       "      <td>...</td>\n",
       "      <td>2507</td>\n",
       "      <td>724</td>\n",
       "      <td>2010</td>\n",
       "      <td>1109</td>\n",
       "      <td>331</td>\n",
       "      <td>0</td>\n",
       "      <td>821</td>\n",
       "      <td>946</td>\n",
       "      <td>1754</td>\n",
       "      <td>428</td>\n",
       "    </tr>\n",
       "    <tr>\n",
       "      <th>17</th>\n",
       "      <td>3000</td>\n",
       "      <td>1033</td>\n",
       "      <td>285</td>\n",
       "      <td>280</td>\n",
       "      <td>340</td>\n",
       "      <td>465</td>\n",
       "      <td>1176</td>\n",
       "      <td>513</td>\n",
       "      <td>1971</td>\n",
       "      <td>877</td>\n",
       "      <td>...</td>\n",
       "      <td>1799</td>\n",
       "      <td>471</td>\n",
       "      <td>1273</td>\n",
       "      <td>792</td>\n",
       "      <td>856</td>\n",
       "      <td>821</td>\n",
       "      <td>0</td>\n",
       "      <td>1476</td>\n",
       "      <td>1827</td>\n",
       "      <td>1249</td>\n",
       "    </tr>\n",
       "    <tr>\n",
       "      <th>18</th>\n",
       "      <td>817</td>\n",
       "      <td>1460</td>\n",
       "      <td>1511</td>\n",
       "      <td>1662</td>\n",
       "      <td>1794</td>\n",
       "      <td>1497</td>\n",
       "      <td>2050</td>\n",
       "      <td>995</td>\n",
       "      <td>2631</td>\n",
       "      <td>1751</td>\n",
       "      <td>...</td>\n",
       "      <td>2700</td>\n",
       "      <td>1048</td>\n",
       "      <td>2097</td>\n",
       "      <td>1011</td>\n",
       "      <td>586</td>\n",
       "      <td>946</td>\n",
       "      <td>1476</td>\n",
       "      <td>0</td>\n",
       "      <td>2707</td>\n",
       "      <td>1209</td>\n",
       "    </tr>\n",
       "    <tr>\n",
       "      <th>19</th>\n",
       "      <td>3927</td>\n",
       "      <td>2868</td>\n",
       "      <td>1616</td>\n",
       "      <td>1786</td>\n",
       "      <td>2196</td>\n",
       "      <td>1403</td>\n",
       "      <td>650</td>\n",
       "      <td>2068</td>\n",
       "      <td>3886</td>\n",
       "      <td>949</td>\n",
       "      <td>...</td>\n",
       "      <td>3231</td>\n",
       "      <td>2108</td>\n",
       "      <td>3188</td>\n",
       "      <td>2428</td>\n",
       "      <td>2187</td>\n",
       "      <td>1754</td>\n",
       "      <td>1827</td>\n",
       "      <td>2707</td>\n",
       "      <td>0</td>\n",
       "      <td>2105</td>\n",
       "    </tr>\n",
       "    <tr>\n",
       "      <th>20</th>\n",
       "      <td>1991</td>\n",
       "      <td>1802</td>\n",
       "      <td>1175</td>\n",
       "      <td>1381</td>\n",
       "      <td>1588</td>\n",
       "      <td>937</td>\n",
       "      <td>1455</td>\n",
       "      <td>1019</td>\n",
       "      <td>2974</td>\n",
       "      <td>1155</td>\n",
       "      <td>...</td>\n",
       "      <td>2937</td>\n",
       "      <td>1157</td>\n",
       "      <td>2409</td>\n",
       "      <td>1363</td>\n",
       "      <td>898</td>\n",
       "      <td>428</td>\n",
       "      <td>1249</td>\n",
       "      <td>1209</td>\n",
       "      <td>2105</td>\n",
       "      <td>0</td>\n",
       "    </tr>\n",
       "  </tbody>\n",
       "</table>\n",
       "<p>21 rows × 21 columns</p>\n",
       "</div>"
      ],
      "text/plain": [
       "      0     1     2     3     4     5     6     7     8     9   ...    11  \\\n",
       "0      0  3313  2963  3175  3339  2762  3276  2610  4485  2977  ...  4532   \n",
       "1   3313     0  1318  1326  1294  1498  2218   803  1172  2018  ...  1305   \n",
       "2   2963  1318     0   204   583   206   966   677  2256   597  ...  2084   \n",
       "3   3175  1326   204     0   460   409  1136   747  2224   714  ...  2052   \n",
       "4   3339  1294   583   460     0   785  1545   853  2047  1115  ...  1827   \n",
       "5   2762  1498   206   409   785     0   760  1662  2436   460  ...  2290   \n",
       "6   3276  2218   966  1136  1545   760     0  1418  3196   460  ...  2971   \n",
       "7   2610   803   677   747   853  1662  1418     0  1975  1118  ...  1936   \n",
       "8   4485  1172  2256  2224  2047  2436  3196  1975     0  2897  ...   676   \n",
       "9   2977  2018   597   714  1115   460   460  1118  2897     0  ...  2671   \n",
       "10  3030  1490   172   330   731   269   269   895  2428   550  ...  2280   \n",
       "11  4532  1305  2084  2052  1827  2290  2971  1936   676  2671  ...     0   \n",
       "12  2753   645   690   739   789   714  1458   158  1817  1159  ...  1178   \n",
       "13  3949   636  1558  1550  1347  1764  2498  1439   698  2198  ...   668   \n",
       "14  2865   521  1011  1059  1101  1035  1778   425  1693  1479  ...  1762   \n",
       "15  2282  1014   925  1077  1209   911  1537   328  2185  1238  ...  2250   \n",
       "16  2179  1365   747   977  1160   583  1104   591  2565   805  ...  2507   \n",
       "17  3000  1033   285   280   340   465  1176   513  1971   877  ...  1799   \n",
       "18   817  1460  1511  1662  1794  1497  2050   995  2631  1751  ...  2700   \n",
       "19  3927  2868  1616  1786  2196  1403   650  2068  3886   949  ...  3231   \n",
       "20  1991  1802  1175  1381  1588   937  1455  1019  2974  1155  ...  2937   \n",
       "\n",
       "      12    13    14    15    16    17    18    19    20  \n",
       "0   2753  3949  2865  2282  2179  3000   817  3927  1991  \n",
       "1    645   636   521  1014  1365  1033  1460  2868  1802  \n",
       "2    690  1558  1011   925   747   285  1511  1616  1175  \n",
       "3    739  1550  1059  1077   977   280  1662  1786  1381  \n",
       "4    789  1347  1101  1209  1160   340  1794  2196  1588  \n",
       "5    714  1764  1035   911   583   465  1497  1403   937  \n",
       "6   1458  2498  1778  1537  1104  1176  2050   650  1455  \n",
       "7    158  1439   425   328   591   513   995  2068  1019  \n",
       "8   1817   698  1693  2185  2565  1971  2631  3886  2974  \n",
       "9   1159  2198  1479  1238   805   877  1751   949  1155  \n",
       "10   863  1730  1183  1098   851   457  1683  1500  1205  \n",
       "11  1178   668  1762  2250  2507  1799  2700  3231  2937  \n",
       "12     0  1281   320   328   724   471  1048  2108  1157  \n",
       "13  1281     0  1157  1724  2010  1273  2097  3188  2409  \n",
       "14   320  1157     0   618  1109   792  1011  2428  1363  \n",
       "15   328  1724   618     0   331   856   586  2187   898  \n",
       "16   724  2010  1109   331     0   821   946  1754   428  \n",
       "17   471  1273   792   856   821     0  1476  1827  1249  \n",
       "18  1048  2097  1011   586   946  1476     0  2707  1209  \n",
       "19  2108  3188  2428  2187  1754  1827  2707     0  2105  \n",
       "20  1157  2409  1363   898   428  1249  1209  2105     0  \n",
       "\n",
       "[21 rows x 21 columns]"
      ]
     },
     "execution_count": 293,
     "metadata": {},
     "output_type": "execute_result"
    }
   ],
   "source": [
    "pd.DataFrame(D)"
   ]
  },
  {
   "cell_type": "code",
   "execution_count": null,
   "metadata": {},
   "outputs": [],
   "source": [
    "def skbio_pcoa(distance_matrix):\n",
    "\n",
    "    # square the matrix to emphasize the hidden structure within the dataset\n",
    "    D = distance_matrix.copy()\n",
    "    D2 = np.pow(D,2)\n",
    "\n",
    "    n = len(D)\n",
    "\n",
    "    # get centering matrix A\n",
    "    J = np.ones_like(D)\n",
    "    I = np.diag(np.diag(J))\n",
    "    A = I - (J / n)\n",
    "\n",
    "    # get W, which encodes the variance and structure of the original dataset as represented by the squared distances, after being adjusted by double-centering\n",
    "    W = -.5 * np.linalg.multi_dot([A, D2, A.T])\n",
    "\n",
    "    eigvals, eigvecs = np.linalg.eigh(W)\n",
    "    \n",
    "    # Ensure number_of_dimensions does not exceed available dimensions\n",
    "    # number_of_dimensions = min(number_of_dimensions, eigvals.shape[0])\n",
    "\n",
    "    # cogent makes eigenvalues positive by taking the\n",
    "    # abs value, but that doesn't seem to be an approach accepted\n",
    "    # by L&L to deal with negative eigenvalues. We raise a warning\n",
    "    # in that case. First, we make values close to 0 equal to 0.\n",
    "    negative_close_to_zero = np.isclose(eigvals, 0)\n",
    "    eigvals[negative_close_to_zero] = 0\n",
    "\n",
    "    # eigvals might not be ordered, so we first sort them, then analogously\n",
    "    # sort the eigenvectors by the ordering of the eigenvalues too\n",
    "    idxs_descending = eigvals.argsort()[::-1]\n",
    "    eigvals = eigvals[idxs_descending]\n",
    "    eigvecs = eigvecs[:, idxs_descending]\n",
    "\n",
    "    # If we return only the coordinates that make sense (i.e., that have a\n",
    "    # corresponding positive eigenvalue), then Jackknifed Beta Diversity\n",
    "    # won't work as it expects all the OrdinationResults to have the same\n",
    "    # number of coordinates. In order to solve this issue, we return the\n",
    "    # coordinates that have a negative eigenvalue as 0\n",
    "    num_positive = (eigvals >= 0).sum()\n",
    "    eigvecs[:, num_positive:] = np.zeros(eigvecs[:, num_positive:].shape)\n",
    "    eigvals[num_positive:] = np.zeros(eigvals[num_positive:].shape)\n",
    "\n",
    "    sum_eigenvalues = np.sum(eigvals)\n",
    "\n",
    "    proportion_explained = eigvals / sum_eigenvalues\n",
    " \n",
    "    # In case eigh is used, eigh computes all eigenvectors and -values.\n",
    "    # So if number_of_dimensions was specified, we manually need to ensure\n",
    "    # only the requested number of dimensions\n",
    "    # (number of eigenvectors and eigenvalues, respectively) are returned.\n",
    "\n",
    "\n",
    "    # Scale eigenvalues to have length = sqrt(eigenvalue). This\n",
    "    # works because np.linalg.eigh returns normalized\n",
    "    # eigenvectors. Each row contains the coordinates of the\n",
    "    # objects in the space of principal coordinates. Note that at\n",
    "    # least one eigenvalue is zero because only n-1 axes are\n",
    "    # needed to represent n points in a euclidean space.\n",
    "    coordinates = eigvecs * np.sqrt(eigvals)\n",
    "\n",
    "    return eigvals,coordinates,proportion_explained"
   ]
  },
  {
   "cell_type": "code",
   "execution_count": 295,
   "metadata": {},
   "outputs": [],
   "source": [
    "eigvals,coordinates,proportion_explained = skbio_pcoa(D.astype(float))"
   ]
  },
  {
   "cell_type": "code",
   "execution_count": 296,
   "metadata": {},
   "outputs": [
    {
     "data": {
      "image/png": "[encoded data removed]",
      "text/plain": [
       "<Figure size 640x480 with 1 Axes>"
      ]
     },
     "metadata": {},
     "output_type": "display_data"
    }
   ],
   "source": [
    "plt.scatter(coordinates[:,0],coordinates[:,1])\n",
    "for i in range(len(city)):\n",
    "    plt.text(coordinates[i,0], coordinates[i,1], city[i])"
   ]
  },
  {
   "cell_type": "code",
   "execution_count": null,
   "metadata": {},
   "outputs": [],
   "source": []
  }
 ],
 "metadata": {
  "kernelspec": {
   "display_name": "Python 3",
   "language": "python",
   "name": "python3"
  },
  "language_info": {
   "codemirror_mode": {
    "name": "ipython",
    "version": 3
   },
   "file_extension": ".py",
   "mimetype": "text/x-python",
   "name": "python",
   "nbconvert_exporter": "python",
   "pygments_lexer": "ipython3",
   "version": "3.13.0"
  }
 },
 "nbformat": 4,
 "nbformat_minor": 2
}
