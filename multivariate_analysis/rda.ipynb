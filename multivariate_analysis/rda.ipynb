{
 "cells": [
  {
   "cell_type": "code",
   "execution_count": 300,
   "metadata": {},
   "outputs": [],
   "source": [
    "import networkx as nx \n",
    "import matplotlib.pyplot as plt \n",
    "import numpy as np\n",
    "import numpy.linalg as la\n",
    "import pandas as pd\n",
    "import scipy.stats\n",
    "from statsmodels.stats.outliers_influence import variance_inflation_factor\n",
    "from itertools import combinations\n",
    "\n",
    "import sys\n",
    "sys.path.append('../mchem_functions/')\n",
    "import multivariate_functions as mvf\n",
    "import PCA_functions as pcf"
   ]
  },
  {
   "cell_type": "code",
   "execution_count": 301,
   "metadata": {},
   "outputs": [],
   "source": [
    "def standardise(matrix:np.ndarray):\n",
    "    return np.divide(np.subtract(matrix,np.mean(matrix,axis=0)) , np.std(matrix,axis=0))\n",
    "\n",
    "def check_vif(X, threshold:int|float=5):\n",
    "    # Calculate VIF for each feature\n",
    "    vif_data = np.array([variance_inflation_factor(X, i) for i in range(np.shape(X)[1])])\n",
    "\n",
    "    indx_to_keep = np.where(vif_data < threshold)[0]\n",
    "    filtered_X = X[:,indx_to_keep]\n",
    "\n",
    "    return vif_data, indx_to_keep, filtered_X\n",
    "\n",
    "from matplotlib_venn import venn3\n",
    "\n",
    "def varpart_venn3(R2_list:list|np.ndarray,savepath:str=None):\n",
    "    \n",
    "    A = R2_list[0]\n",
    "    B = R2_list[1]\n",
    "    C = R2_list[2]\n",
    "    AB = R2_list[3]\n",
    "    AC = R2_list[4]\n",
    "    BC = R2_list[5]\n",
    "    ABC = R2_list[6]\n",
    "\n",
    "    a = ABC - BC\n",
    "    b = ABC - AC\n",
    "    c = ABC - AB\n",
    "\n",
    "    d = ((AC - a - C) + (BC - b - C)) /2\n",
    "    f = ((BC - c - B) + (AB - a - B)) /2\n",
    "    e = ((AB - b - A) + (AC - c - A)) /2\n",
    "    g = ((A - d - f - a) + (B  - e - d - b) + (C  - e - f - c)) /3\n",
    "\n",
    "    res = 1 - ABC\n",
    "\n",
    "    a = np.round(a,4)\n",
    "    b = np.round(b,4)\n",
    "    c = np.round(c,4)\n",
    "    d = np.round(d,4)\n",
    "    f = np.round(f,4)\n",
    "    e = np.round(e,4)\n",
    "    g = np.round(g,4)\n",
    "\n",
    "    subsets = [a,b,c,d,e,f,g]\n",
    "\n",
    "    for i in range(len(subsets)):\n",
    "        if subsets[i] < 0: subsets[i] = -subsets[i]\n",
    "\n",
    "    # depict venn diagram \n",
    "    v = venn3(subsets=(a, b, d, c, f, e, g),  \n",
    "        set_labels=(f'Topography\\n(R$^{{2}}_{{a}}$ = {np.round(A,4)})', f'Chemistry\\n(R$^{{2}}_{{a}}$ = {np.round(B,4)})', f'Geography\\n(R$^{{2}}_{{a}}$ = {np.round(C,4)})'),  \n",
    "        set_colors=(\"orange\", \"blue\", \"red\"), alpha=0.7)\n",
    "    plt.text(np.mean(plt.xlim()),np.min(plt.ylim())-.25,f'Residual R$^{{2}}_{{a}}$ = {np.round(res,4)}',ha='center')\n",
    "\n",
    "    plt.text(np.mean(plt.xlim()),np.max(plt.ylim())+.15,\"Variation Partitioning Venn Diagram\",fontsize=15,ha='center')\n",
    "\n",
    "    if savepath != None:\n",
    "        plt.savefig(savepath)\n",
    "\n",
    "    return a,b,c,d,e,f,g"
   ]
  },
  {
   "cell_type": "code",
   "execution_count": 302,
   "metadata": {},
   "outputs": [],
   "source": [
    "predictand_a = np.array([\n",
    "[1, 0, 0, 0, 0, 0,],\n",
    "[0, 0, 0, 0, 0, 0,],\n",
    "[0, 1, 0, 0, 0, 0,],\n",
    "[11, 4, 0, 0, 8, 1,],\n",
    "[11, 5, 17, 7, 0, 0,],\n",
    "[9, 6, 0, 0, 6, 2,],\n",
    "[9, 7, 13, 10, 0, 0,],\n",
    "[7, 8, 0, 0, 4, 3,],\n",
    "[7, 9, 10, 13, 0, 0,],\n",
    "[5, 10, 0, 0, 2, 4,],\n",
    "])\n",
    "\n",
    "predictor_a = np.array([\n",
    "[1,  0, 1, 0],\n",
    "[2,  0, 1, 0],\n",
    "[3,  0, 1, 0],\n",
    "[4,  0, 0, 1],\n",
    "[5,  1, 0, 0],\n",
    "[6,  0, 0, 1],\n",
    "[7,  1, 0, 0],\n",
    "[8,  0, 0, 1],\n",
    "[9,  1, 0, 0],\n",
    "[10, 0, 0, 1],\n",
    "])\n",
    "\n",
    "predictand_b = np.array([\n",
    "[4.615, 10.003, 0.307, 0.184, 0.274],\n",
    "[5.226, 9.999, 0.207, 0.212, 0.213],\n",
    "[5.081, 9.636, 0.140, 0.229, 0.134],\n",
    "[5.278, 8.331, 1.371, 0.287, 0.177],\n",
    "[5.756, 8.929, 1.447, 0.242, 0.091],\n",
    "[5.328, 8.839, 0.668, 0.531, 0.272],\n",
    "[4.263, 7.784, 0.300, 0.948, 0.460],\n",
    "[5.442, 8.023, 0.329, 1.389, 0.253],\n",
    "[5.328, 8.294, 0.207, 0.765, 0.235],\n",
    "[4.663, 7.883, 0.223, 0.737, 0.362],\n",
    "[6.775, 9.741, 0.788, 0.454, 0.824],\n",
    "[5.442, 8.657, 1.112, 0.395, 0.419],\n",
    "[5.421, 8.117, 1.273, 0.247, 0.398],\n",
    "[5.602, 8.117, 0.956, 0.449, 0.172],\n",
    "[5.442, 8.487, 0.708, 0.457, 0.141],\n",
    "[5.303, 7.955, 0.637, 0.386, 0.360],\n",
    "[5.602, 10.545, 0.519, 0.481, 0.261],\n",
    "[5.505, 9.687, 0.247, 0.468, 0.450],\n",
    "[6.019, 8.700, 1.664, 0.321, 0.287],\n",
    "[5.464, 10.240, 0.182, 0.380, 0.510],\n",
    "])\n",
    "\n",
    "predictor_b = np.array([\n",
    "[-8.75, 3.7, 76.5625],\n",
    "[-6.75, 2.7, 45.5625],\n",
    "[-5.75, 1.7, 33.0625],\n",
    "[-5.75, 3.7, 33.0625],\n",
    "[-3.75, 2.7, 14.0625],\n",
    "[-2.75, 3.7, 7.5625],\n",
    "[-1.75, 0.7, 3.0625],\n",
    "[-0.75, -0.3, 0.5625],\n",
    "[0.25, -1.3, 0.0625],\n",
    "[0.25, 0.7, 0.0625],\n",
    "[0.25, 2.7, 0.0625],\n",
    "[1.25, 1.7, 1.5625],\n",
    "[3.25, -4.3, 10.5625],\n",
    "[3.25, -2.3, 10.5625],\n",
    "[3.25, -1.3, 10.5625],\n",
    "[4.25, -5.3, 18.0625],\n",
    "[4.25, -4.3, 18.0625],\n",
    "[4.25, -2.3, 18.0625],\n",
    "[5.25, -0.3, 27.5625],\n",
    "[6.25, -2.3, 39.0625],\n",
    "])\n",
    "\n",
    "Y = predictand_a\n",
    "X = predictor_a\n",
    "\n",
    "# Y = np.divide(np.subtract(Y,np.mean(Y,axis=0)) , np.std(Y,axis=0))\n",
    "# X = np.subtract(X,np.mean(X,axis=0))#np.divide(np.subtract(X,np.mean(X,axis=0)) , np.std(X,axis=0))"
   ]
  },
  {
   "cell_type": "code",
   "execution_count": null,
   "metadata": {},
   "outputs": [],
   "source": []
  },
  {
   "cell_type": "code",
   "execution_count": 303,
   "metadata": {},
   "outputs": [],
   "source": [
    "def do_pca(matrix:np.ndarray,n_components:int=None):\n",
    "    Y = matrix.copy()\n",
    "    Y_c = np.subtract(Y,np.mean(Y,axis=0))\n",
    "    # n is number of observations (samples)\n",
    "    n = np.shape(Y)[0]\n",
    "\n",
    "    S = (1/(n-1)) * (Y_c.T @ Y_c)\n",
    "    \n",
    "    eigvals, eigvecs = la.eigh(S)\n",
    "    U = eigvecs # loadings\n",
    "\n",
    "    # negative_close_to_zero = np.isclose(eigvals, 0)\n",
    "    eigvals[np.isclose(eigvals, 0)] = 0\n",
    "\n",
    "    # eigvals might not be ordered, so we first sort them, then analogously sort the eigenvectors by the ordering of the eigenvalues too\n",
    "    idxs_descending = eigvals.argsort()[::-1]\n",
    "    eigvals = eigvals[idxs_descending]\n",
    "    U = U[:, idxs_descending]\n",
    "\n",
    "    proportion_explained = eigvals / np.sum(eigvals)\n",
    "\n",
    "    # scores F\n",
    "    F = Y_c @ U\n",
    "    F[np.isclose(F, 0)] = 0\n",
    "\n",
    "    max_n_n_components = len(eigvals) - len(np.where(eigvals==0)[0])\n",
    "\n",
    "    if n_components == None:\n",
    "        n_components = max_n_n_components\n",
    "\n",
    "    elif n_components > max_n_n_components:\n",
    "        print('The max number of PCs is min(np.shape(matrix)[0]-1,np.shape(matrix)[1])\\nn_components will be now set at that value')\n",
    "        n_components = max_n_n_components\n",
    "\n",
    "    U = U[:, :n_components]\n",
    "    eigvals = eigvals[:n_components]\n",
    "    proportion_explained = proportion_explained[:n_components]\n",
    "    F = F[:, :n_components]\n",
    "    \n",
    "    return eigvals, proportion_explained, U, F"
   ]
  },
  {
   "cell_type": "code",
   "execution_count": 304,
   "metadata": {},
   "outputs": [],
   "source": [
    "def ols(Y:np.ndarray,X:np.ndarray):\n",
    "    return X @ la.inv(X.T @ X) @ X.T @ Y\n",
    "\n",
    "def rda(Y:np.ndarray,X:np.ndarray,confidence:float=0.95,verbose:bool=True):\n",
    "    '''\n",
    "    \n",
    "    P. Legendre and L. Legendre, in Developments in Environmental Modelling, ed. P. Legendre and L. Legendre, Elsevier, 2012, vol. 24, ch. 11, pp. 625-710.\n",
    "    '''\n",
    "\n",
    "    assert np.shape(Y)[0] == np.shape(X)[0], 'Y must have n objects and p variables (n x p X must have n objects and m variables (n x m).'\n",
    "    n, p = np.shape(Y)\n",
    "    m = np.shape(X)[1]\n",
    "    assert m != (n-1), 'm >= (n-1): The system is overdetermined. If m == (n-1), R^2 cannot be calculated'\n",
    "    if m > n-1: print('m > n-1: the system is overdetermined, X has too many explanatory variables')\n",
    "\n",
    "    # Center the matrices Y and X\n",
    "    Y_c = np.subtract(Y,np.mean(Y,axis=0))\n",
    "\n",
    "    # Do Ordinary least squares (OLS) on X and Y\n",
    "    Y_hat = ols(Y_c,X)\n",
    "\n",
    "    # Y_hat = la.lstsq(Y_c,X)[0]\n",
    "\n",
    "    # Perform PCA on Y_hat to find the canonical values\n",
    "    eigvals_can, _, U_can, Z_can = do_pca(Y_hat)\n",
    "\n",
    "    # Calculate the residual values\n",
    "    Y_res = np.subtract(Y_c,Y_hat)\n",
    "\n",
    "    # Perform PCA on Y_res to find the non-canonical values\n",
    "    eigvals_noncan, _, U_noncan, Z_noncan = do_pca(Y_res)\n",
    "\n",
    "    # Calculate the proportion exaplained from the sum of the eigenvalues we have\n",
    "    all_eigvals_sum = np.sum( np.append(eigvals_can,eigvals_noncan) )\n",
    "    proportion_explained_can = eigvals_can / all_eigvals_sum\n",
    "    proportion_explained_noncan = eigvals_noncan / all_eigvals_sum\n",
    "\n",
    "    # Calculate the overall canonical R^2\n",
    "    R2_YX = np.divide( np.var(Y_hat), np.var(Y_c) )\n",
    "    # Calculate the overall adjusted R^2\n",
    "    R2_a = 1 - (1 - R2_YX) * ( (n-1) / (n-m-1) )\n",
    "\n",
    "    # Calculate the r for each axis\n",
    "    F = Y_c @ U_can\n",
    "    r_k = np.zeros(np.shape(F)[1])\n",
    "    for i in range(np.shape(F)[1]):\n",
    "        r_k[i] = scipy.stats.linregress(F[:,i], Z_can[:,i])[2]\n",
    "\n",
    "    # Get the contribution of the explanatory variables X to the canonical ordination axes\n",
    "    R_XZ = np.zeros((np.shape(X)[1],np.shape(Z_can)[1]))\n",
    "    for i in range(np.shape(R_XZ)[0]):\n",
    "        for j in range(np.shape(R_XZ)[1]):\n",
    "            R_XZ[i,j] = scipy.stats.linregress(X[:,i], Z_can[:,j])[2]\n",
    "            \n",
    "    # Get the matrix of biplot scores in scaling type 1 (BS_1) for the explanatory variables\n",
    "    BS_1 = np.zeros_like(R_XZ)\n",
    "    for i in range(np.shape(BS_1)[1]):\n",
    "        BS_1[:,i] = R_XZ[:,i] * np.sqrt(proportion_explained_can)[i]\n",
    "\n",
    "    # Run the F-test\n",
    "    # (1) Get the degrees of freedom\n",
    "    # (1.a) in the case of standardised values\n",
    "    if np.all(np.isclose(Y,standardise(Y))): v1 , v2 = (m*p) , (p*(n-m-1))\n",
    "\n",
    "    # (1.b) in the case of non-standardised values\n",
    "    else: v1 , v2 = m , (n-m-1)\n",
    "\n",
    "    # (2) Calculate the F-statistic\n",
    "    F_statistic = (R2_YX / v1) / ( (1 - R2_YX) / v2)\n",
    "\n",
    "    # (3) Compare with the F critical value and text the null-hypothesis\n",
    "    crit_F_value = scipy.stats.f.ppf(q=confidence, dfn=v1, dfd=v2)\n",
    "    H_0 = F_statistic < crit_F_value\n",
    "    \n",
    "    # Calculate the p-value by getting the right-hand side of the distribution\n",
    "    p_value = 1 - scipy.stats.f.cdf(F_statistic, dfn=v1, dfd=v2)\n",
    "\n",
    "    # If verbose == True, print some info regaring the F-test\n",
    "    if verbose:\n",
    "        print(f'The null-hypothesis is {H_0} in the {confidence*100}% confidence range (F-statistic = {np.round(F_statistic,2)}, critical F value = {np.round(crit_F_value,2)}).')\n",
    "        print(f'p = {np.round(p_value,3)}')\n",
    "\n",
    "    return (eigvals_can, proportion_explained_can, U_can, Z_can, eigvals_noncan,\n",
    "            proportion_explained_noncan, U_noncan, Z_noncan, R2_YX, R2_a, r_k,\n",
    "            R_XZ, BS_1, F_statistic, crit_F_value, p_value)"
   ]
  },
  {
   "cell_type": "code",
   "execution_count": 305,
   "metadata": {},
   "outputs": [
    {
     "name": "stdout",
     "output_type": "stream",
     "text": [
      "The null-hypothesis is False in the 95.0% confidence range (F-statistic = 29.78, critical F value = 5.19).\n",
      "p = 0.001\n"
     ]
    }
   ],
   "source": [
    "(eigvals_can, proportion_explained_can, U_can, Z_can, eigvals_noncan,\n",
    " proportion_explained_noncan, U_noncan, Z_noncan, R2_partial, R2_a, r_k,\n",
    " R_XZ, BS_1, F_statistic, crit_F_value, p_value) = rda(Y,X)"
   ]
  },
  {
   "cell_type": "code",
   "execution_count": 306,
   "metadata": {},
   "outputs": [
    {
     "data": {
      "text/plain": [
       "array([74.52266956, 24.94196033,  8.87611085])"
      ]
     },
     "execution_count": 306,
     "metadata": {},
     "output_type": "execute_result"
    }
   ],
   "source": [
    "eigvals_can"
   ]
  },
  {
   "cell_type": "code",
   "execution_count": 307,
   "metadata": {},
   "outputs": [],
   "source": [
    "def prda(Y:np.ndarray,X:np.ndarray,W:np.ndarray,confidence:float=0.95,verbose:bool=True):\n",
    "\n",
    "    n, p = np.shape(Y)\n",
    "    m = np.shape(X)[1]\n",
    "    \n",
    "    Y_c = Y - np.mean(Y,axis=0)\n",
    "    X_c = X - np.mean(X,axis=0)\n",
    "    W_c = W - np.mean(W,axis=0)\n",
    "\n",
    "    Y_hatW = ols(Y_c,W_c)\n",
    "    X_hatW = ols(X_c,W_c)\n",
    "\n",
    "    Y_resW = Y_c - Y_hatW\n",
    "    X_resW = X_c - X_hatW\n",
    "\n",
    "    (eigvals_can, proportion_explained_can, U_can, Z_can, eigvals_noncan,\n",
    "     proportion_explained_noncan, U_noncan, Z_noncan, R2_partial, R2_a, r_k,\n",
    "     R_XZ, BS_1, F_statistic, crit_F_value, p_value) = rda(Y_resW,X_resW,\n",
    "                                                           confidence=confidence,\n",
    "                                                           verbose=verbose)\n",
    "\n",
    "    R2_semipartial = rda(Y_c,X_resW,confidence=confidence,verbose=verbose)[-8]\n",
    "\n",
    "\n",
    "\n",
    "    return R2_partial, R2_semipartial"
   ]
  },
  {
   "cell_type": "code",
   "execution_count": 308,
   "metadata": {},
   "outputs": [],
   "source": [
    "Y = predictand_a\n",
    "W, X = predictor_a[:,0], predictor_a[:,1:]\n",
    "W = np.reshape(W,(len(W),1))"
   ]
  },
  {
   "cell_type": "code",
   "execution_count": 309,
   "metadata": {},
   "outputs": [],
   "source": [
    "predictand_a = np.array([\n",
    "[1, 0, 0, 0, 0, 0,],\n",
    "[0, 0, 0, 0, 0, 0,],\n",
    "[0, 1, 0, 0, 0, 0,],\n",
    "[11, 4, 0, 0, 8, 1,],\n",
    "[11, 5, 17, 7, 0, 0,],\n",
    "[9, 6, 0, 0, 6, 2,],\n",
    "[9, 7, 13, 10, 0, 0,],\n",
    "[7, 8, 0, 0, 4, 3,],\n",
    "[7, 9, 10, 13, 0, 0,],\n",
    "[5, 10, 0, 0, 2, 4,],\n",
    "])\n",
    "\n",
    "predictor_a = np.array([\n",
    "[1,  0, 1, 0],\n",
    "[2,  0, 1, 0],\n",
    "[3,  0, 1, 0],\n",
    "[4,  0, 0, 1],\n",
    "[5,  1, 0, 0],\n",
    "[6,  0, 0, 1],\n",
    "[7,  1, 0, 0],\n",
    "[8,  0, 0, 1],\n",
    "[9,  1, 0, 0],\n",
    "[10, 0, 0, 1],\n",
    "])"
   ]
  },
  {
   "cell_type": "code",
   "execution_count": null,
   "metadata": {},
   "outputs": [],
   "source": []
  },
  {
   "cell_type": "code",
   "execution_count": 310,
   "metadata": {},
   "outputs": [],
   "source": [
    "# Y_c = Y - np.mean(Y,axis=0)\n",
    "# X_c = X - np.mean(X,axis=0)\n",
    "# W_c = W - np.mean(W,axis=0)\n",
    "\n",
    "# Y_hatW = ols(Y_c,W_c)\n",
    "# X_hatW = ols(X_c,W_c)\n",
    "\n",
    "# Y_resW = Y_c - Y_hatW\n",
    "# X_resW = X_c - X_hatW\n",
    "\n",
    "# (eigvals_can1, proportion_explained_can1, U_can1, Z_can, eigvals_noncan,\n",
    "#     proportion_explained_noncan, U_noncan, Z_noncan, R2_partial, R2_a, r_k,\n",
    "#     R_XZ, BS_1, F_statistic, crit_F_value, p_value) = rda(Y_resW,X_resW,\n",
    "#                                                         verbose=0)\n",
    "\n",
    "# (eigvals_can2, proportion_explained_can2, U_can2, Z_can, eigvals_noncan,\n",
    "#     proportion_explained_noncan, U_noncan, Z_noncan, R2_semipartial, R2_a, r_k,\n",
    "#     R_XZ, BS_1, F_statistic, crit_F_value, p_value) = rda(Y_c,X_resW,\n",
    "#                                                         verbose=0)"
   ]
  },
  {
   "cell_type": "code",
   "execution_count": null,
   "metadata": {},
   "outputs": [],
   "source": []
  },
  {
   "cell_type": "markdown",
   "metadata": {},
   "source": [
    "# Variation Partitioning!!!"
   ]
  },
  {
   "cell_type": "code",
   "execution_count": 311,
   "metadata": {},
   "outputs": [],
   "source": [
    "Y = pd.read_csv('https://raw.githubusercontent.com/JoeyBernhardt/NumericalEcology/refs/heads/master/DoubsSpe.csv',index_col='Unnamed: 0').drop(index=8).to_numpy()\n",
    "X = pd.read_csv('https://raw.githubusercontent.com/JoeyBernhardt/NumericalEcology/refs/heads/master/DoubsEnv.csv',index_col='Unnamed: 0').drop(index=8)"
   ]
  },
  {
   "cell_type": "code",
   "execution_count": null,
   "metadata": {},
   "outputs": [],
   "source": []
  },
  {
   "cell_type": "code",
   "execution_count": null,
   "metadata": {},
   "outputs": [],
   "source": []
  },
  {
   "cell_type": "code",
   "execution_count": 312,
   "metadata": {},
   "outputs": [],
   "source": [
    "topography_df = X[['alt','pen','deb']]\n",
    "# chemistry_df = X[['pH','dur','pho','nit','amm','oxy','dbo']]\n",
    "chemistry_df = X[['pH','dur','pho','nit','amm','oxy','dbo']]\n",
    "geography_df = X[['das']]\n",
    "\n",
    "topography = topography_df.to_numpy()\n",
    "chemistry = chemistry_df.to_numpy()\n",
    "geography = geography_df.to_numpy()\n",
    "\n",
    "# Y = np.subtract(Y,np.mean(Y,axis=0))\n",
    "# topography = np.subtract(topography,np.mean(topography,axis=0))\n",
    "# chemistry = np.subtract(chemistry,np.mean(chemistry,axis=0))\n",
    "# geography = np.subtract(geography,np.mean(geography,axis=0))\n",
    "\n",
    "# Hellinger Transform??\n",
    "row_sum = np.sum(Y,axis=1)\n",
    "row_sum = np.reshape(row_sum,(len(row_sum),1))\n",
    "Y = np.sqrt(Y/row_sum)\n",
    "\n",
    "# standardise?\n",
    "# Y = standardise(Y)\n",
    "topography = standardise(topography)\n",
    "chemistry = standardise(chemistry)\n",
    "geography = standardise(geography)\n",
    "\n",
    "# # VIF?\n",
    "# _, topography_to_keep, topography = check_vif(topography,threshold=20)\n",
    "# _, chemistry_to_keep, chemistry = check_vif(chemistry,threshold=20)\n",
    "# topography_kept = np.array(topography_df.columns)[topography_to_keep]\n",
    "# chemistry_kept = np.array(chemistry_df.columns)[chemistry_to_keep]"
   ]
  },
  {
   "cell_type": "code",
   "execution_count": 313,
   "metadata": {},
   "outputs": [],
   "source": [
    "variables = [topography,chemistry,geography]\n",
    "str_variables = ['topography','chemistry','geography']"
   ]
  },
  {
   "cell_type": "code",
   "execution_count": null,
   "metadata": {},
   "outputs": [],
   "source": [
    "def varpart(Y:np.ndarray,Xs:list,X_labels:list=[]):\n",
    "\n",
    "    combo_list = []\n",
    "    str_combo_list = []\n",
    "\n",
    "    for i in range(1,len(Xs)+1):\n",
    "        combo_list += list(combinations(range(len(Xs)),i))\n",
    "\n",
    "        if X_labels != []:\n",
    "            str_combo_list += list(combinations(X_labels,i))\n",
    "        else:\n",
    "            str_combo_list += list(combinations(range(len(Xs)),i))\n",
    "\n",
    "    R2_list = []\n",
    "    for combo in combo_list:\n",
    "        for i in range(len(combo)):\n",
    "            idx = combo[i]\n",
    "            if i == 0:\n",
    "                X_combo = Xs[idx]\n",
    "            else:\n",
    "                X_combo = np.concat((X_combo,Xs[idx]),axis=1)\n",
    "\n",
    "        R2_list.append(rda(Y,X_combo,verbose=0)[-7])\n",
    "\n",
    "    R2_list = np.array(R2_list)\n",
    "\n",
    "    if len(Xs) == 2:\n",
    "        pass #venn2\n",
    "    elif len(Xs) == 3:\n",
    "        a,b,c,d,e,f,g = varpart_venn3(R2_list)\n",
    "\n",
    "    venn_dict = {}\n",
    "    for i in range(len(R2_list)):\n",
    "        venn_dict[str_combo_list[i]] = float(np.round(R2_list[i],4))\n",
    "    venn_dict"
   ]
  },
  {
   "cell_type": "code",
   "execution_count": 315,
   "metadata": {},
   "outputs": [],
   "source": [
    "combo_list = []\n",
    "\n",
    "\n",
    "str_combo_list = []\n",
    "\n",
    "for i in range(1,len(variables)+1):\n",
    "    combo_list += list(combinations(range(len(variables)),i))\n",
    "\n",
    "    str_combo_list += list(combinations(str_variables,i))"
   ]
  },
  {
   "cell_type": "code",
   "execution_count": 316,
   "metadata": {},
   "outputs": [
    {
     "name": "stdout",
     "output_type": "stream",
     "text": [
      "('topography',)\n",
      "('chemistry',)\n",
      "('geography',)\n",
      "('topography', 'chemistry')\n",
      "('topography', 'geography')\n",
      "('chemistry', 'geography')\n",
      "('topography', 'chemistry', 'geography')\n"
     ]
    }
   ],
   "source": [
    "R2_list = []\n",
    "for combo in combo_list:\n",
    "    for i in range(len(combo)):\n",
    "        idx = combo[i]\n",
    "        if i == 0:\n",
    "            X_combo = variables[idx]\n",
    "        else:\n",
    "            X_combo = np.concat((X_combo,variables[idx]),axis=1)\n",
    "\n",
    "    # if np.shape(X_combo)[1] > 1:\n",
    "    #     X_combo = check_vif(X_combo,threshold=20)[-1]\n",
    "    print(str_combo_list[combo_list.index(combo)])\n",
    "    R2_list.append(rda(Y,X_combo,verbose=0)[-7])\n",
    "\n",
    "R2_list = np.array(R2_list)"
   ]
  },
  {
   "cell_type": "code",
   "execution_count": null,
   "metadata": {},
   "outputs": [],
   "source": []
  },
  {
   "cell_type": "code",
   "execution_count": 317,
   "metadata": {},
   "outputs": [
    {
     "data": {
      "text/plain": [
       "{('topography',): 0.3451,\n",
       " ('chemistry',): 0.4744,\n",
       " ('geography',): 0.3671,\n",
       " ('topography', 'chemistry'): 0.5864,\n",
       " ('topography', 'geography'): 0.511,\n",
       " ('chemistry', 'geography'): 0.5507,\n",
       " ('topography', 'chemistry', 'geography'): 0.5871}"
      ]
     },
     "execution_count": 317,
     "metadata": {},
     "output_type": "execute_result"
    }
   ],
   "source": [
    "venn = {}\n",
    "true_values=[0.345,0.474,0.367,.586,.511,.551,.587]\n",
    "true_values_dict = {}\n",
    "perc_error = {}\n",
    "for i in range(len(R2_list)):\n",
    "    venn[str_combo_list[i]] = float(np.round(R2_list[i],4))\n",
    "    true_values_dict[str_combo_list[i]] = true_values[i]\n",
    "    perc_error[str_combo_list[i]] = np.round(100*((float(np.round(R2_list[i],4))/true_values[i])-1),2)\n",
    "venn"
   ]
  },
  {
   "cell_type": "code",
   "execution_count": 318,
   "metadata": {},
   "outputs": [
    {
     "data": {
      "image/png": "[encoded data removed]",
      "text/plain": [
       "<Figure size 640x480 with 1 Axes>"
      ]
     },
     "metadata": {},
     "output_type": "display_data"
    }
   ],
   "source": [
    "a,b,c,d,e,f,g = varpart_venn3(R2_list)"
   ]
  },
  {
   "cell_type": "code",
   "execution_count": 319,
   "metadata": {},
   "outputs": [
    {
     "data": {
      "image/png": "[encoded data removed]",
      "text/plain": [
       "<Figure size 640x480 with 1 Axes>"
      ]
     },
     "metadata": {},
     "output_type": "display_data"
    }
   ],
   "source": [
    "a_true,b_true,c_true,d_true,e_true,f_true,g_true = varpart_venn3(true_values)"
   ]
  },
  {
   "cell_type": "code",
   "execution_count": 320,
   "metadata": {},
   "outputs": [
    {
     "data": {
      "text/plain": [
       "{('topography',): np.float64(0.03),\n",
       " ('chemistry',): np.float64(0.08),\n",
       " ('geography',): np.float64(0.03),\n",
       " ('topography', 'chemistry'): np.float64(0.07),\n",
       " ('topography', 'geography'): np.float64(0.0),\n",
       " ('chemistry', 'geography'): np.float64(-0.05),\n",
       " ('topography', 'chemistry', 'geography'): np.float64(0.02)}"
      ]
     },
     "execution_count": 320,
     "metadata": {},
     "output_type": "execute_result"
    }
   ],
   "source": [
    "perc_error"
   ]
  },
  {
   "cell_type": "code",
   "execution_count": null,
   "metadata": {},
   "outputs": [],
   "source": []
  }
 ],
 "metadata": {
  "kernelspec": {
   "display_name": "Python 3",
   "language": "python",
   "name": "python3"
  },
  "language_info": {
   "codemirror_mode": {
    "name": "ipython",
    "version": 3
   },
   "file_extension": ".py",
   "mimetype": "text/x-python",
   "name": "python",
   "nbconvert_exporter": "python",
   "pygments_lexer": "ipython3",
   "version": "3.13.0"
  }
 },
 "nbformat": 4,
 "nbformat_minor": 2
}
