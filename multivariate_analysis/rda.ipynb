{
 "cells": [
  {
   "cell_type": "code",
   "execution_count": 31,
   "metadata": {},
   "outputs": [],
   "source": [
    "import numpy as np\n",
    "import pandas as pd\n",
    "import matplotlib.pyplot as plt\n",
    "import glob\n",
    "\n",
    "from matplotlib_venn import venn3\n",
    "\n",
    "import sys\n",
    "sys.path.append('../mchem_functions/')\n",
    "import multivariate_functions as mvf"
   ]
  },
  {
   "cell_type": "code",
   "execution_count": 32,
   "metadata": {},
   "outputs": [],
   "source": [
    "predictand_a = np.array([\n",
    "[1, 0, 0, 0, 0, 0,],\n",
    "[0, 0, 0, 0, 0, 0,],\n",
    "[0, 1, 0, 0, 0, 0,],\n",
    "[11, 4, 0, 0, 8, 1,],\n",
    "[11, 5, 17, 7, 0, 0,],\n",
    "[9, 6, 0, 0, 6, 2,],\n",
    "[9, 7, 13, 10, 0, 0,],\n",
    "[7, 8, 0, 0, 4, 3,],\n",
    "[7, 9, 10, 13, 0, 0,],\n",
    "[5, 10, 0, 0, 2, 4,],\n",
    "])\n",
    "\n",
    "predictor_a = np.array([\n",
    "[1,  0, 1, 0],\n",
    "[2,  0, 1, 0],\n",
    "[3,  0, 1, 0],\n",
    "[4,  0, 0, 1],\n",
    "[5,  1, 0, 0],\n",
    "[6,  0, 0, 1],\n",
    "[7,  1, 0, 0],\n",
    "[8,  0, 0, 1],\n",
    "[9,  1, 0, 0],\n",
    "[10, 0, 0, 1],\n",
    "])\n",
    "\n",
    "predictand_b = np.array([\n",
    "[4.615, 10.003, 0.307, 0.184, 0.274],\n",
    "[5.226, 9.999, 0.207, 0.212, 0.213],\n",
    "[5.081, 9.636, 0.140, 0.229, 0.134],\n",
    "[5.278, 8.331, 1.371, 0.287, 0.177],\n",
    "[5.756, 8.929, 1.447, 0.242, 0.091],\n",
    "[5.328, 8.839, 0.668, 0.531, 0.272],\n",
    "[4.263, 7.784, 0.300, 0.948, 0.460],\n",
    "[5.442, 8.023, 0.329, 1.389, 0.253],\n",
    "[5.328, 8.294, 0.207, 0.765, 0.235],\n",
    "[4.663, 7.883, 0.223, 0.737, 0.362],\n",
    "[6.775, 9.741, 0.788, 0.454, 0.824],\n",
    "[5.442, 8.657, 1.112, 0.395, 0.419],\n",
    "[5.421, 8.117, 1.273, 0.247, 0.398],\n",
    "[5.602, 8.117, 0.956, 0.449, 0.172],\n",
    "[5.442, 8.487, 0.708, 0.457, 0.141],\n",
    "[5.303, 7.955, 0.637, 0.386, 0.360],\n",
    "[5.602, 10.545, 0.519, 0.481, 0.261],\n",
    "[5.505, 9.687, 0.247, 0.468, 0.450],\n",
    "[6.019, 8.700, 1.664, 0.321, 0.287],\n",
    "[5.464, 10.240, 0.182, 0.380, 0.510],\n",
    "])\n",
    "\n",
    "predictor_b = np.array([\n",
    "[-8.75, 3.7, 76.5625],\n",
    "[-6.75, 2.7, 45.5625],\n",
    "[-5.75, 1.7, 33.0625],\n",
    "[-5.75, 3.7, 33.0625],\n",
    "[-3.75, 2.7, 14.0625],\n",
    "[-2.75, 3.7, 7.5625],\n",
    "[-1.75, 0.7, 3.0625],\n",
    "[-0.75, -0.3, 0.5625],\n",
    "[0.25, -1.3, 0.0625],\n",
    "[0.25, 0.7, 0.0625],\n",
    "[0.25, 2.7, 0.0625],\n",
    "[1.25, 1.7, 1.5625],\n",
    "[3.25, -4.3, 10.5625],\n",
    "[3.25, -2.3, 10.5625],\n",
    "[3.25, -1.3, 10.5625],\n",
    "[4.25, -5.3, 18.0625],\n",
    "[4.25, -4.3, 18.0625],\n",
    "[4.25, -2.3, 18.0625],\n",
    "[5.25, -0.3, 27.5625],\n",
    "[6.25, -2.3, 39.0625],\n",
    "])\n",
    "\n",
    "Y = predictand_a\n",
    "X = predictor_a\n",
    "\n",
    "# Y = np.divide(np.subtract(Y,np.mean(Y,axis=0)) , np.std(Y,axis=0))\n",
    "# X = np.subtract(X,np.mean(X,axis=0))#np.divide(np.subtract(X,np.mean(X,axis=0)) , np.std(X,axis=0))"
   ]
  },
  {
   "cell_type": "code",
   "execution_count": 33,
   "metadata": {},
   "outputs": [
    {
     "name": "stdout",
     "output_type": "stream",
     "text": [
      "The null-hypothesis is False in the 95.0% confidence range (F-statistic = 29.78, critical F value = 5.19).\n",
      "p = 0.001\n"
     ]
    }
   ],
   "source": [
    "(eigvals_can, proportion_explained_can, U_can, Z_can, eigvals_noncan,\n",
    " proportion_explained_noncan, U_noncan, Z_noncan, R2_partial, R2_a, r_k,\n",
    " R_XZ, BS_1, F_statistic, crit_F_value, p_value) = mvf.RDA(Y,X)"
   ]
  },
  {
   "cell_type": "markdown",
   "metadata": {},
   "source": [
    "# pRDA to work on"
   ]
  },
  {
   "cell_type": "code",
   "execution_count": 34,
   "metadata": {},
   "outputs": [],
   "source": [
    "def pRDA(Y:np.ndarray,X:np.ndarray,W:np.ndarray,confidence:float=0.95,verbose:bool=True):\n",
    "\n",
    "    n, p = np.shape(Y)\n",
    "    m = np.shape(X)[1]\n",
    "    \n",
    "    Y_c = Y - np.mean(Y,axis=0)\n",
    "    X_c = X - np.mean(X,axis=0)\n",
    "    W_c = W - np.mean(W,axis=0)\n",
    "\n",
    "    Y_hatW = mvf.OLS(Y_c,W_c)\n",
    "    X_hatW = mvf.OLS(X_c,W_c)\n",
    "\n",
    "    Y_resW = Y_c - Y_hatW\n",
    "    X_resW = X_c - X_hatW\n",
    "\n",
    "    (eigvals_can, proportion_explained_can, U_can, Z_can, eigvals_noncan,\n",
    "     proportion_explained_noncan, U_noncan, Z_noncan, R2_partial, R2_a, r_k,\n",
    "     R_XZ, BS_1, F_statistic, crit_F_value, p_value) = mvf.RDA(Y_resW,X_resW,\n",
    "                                                           confidence=confidence,\n",
    "                                                           verbose=verbose)\n",
    "\n",
    "    R2_semipartial = mvf.RDA(Y_c,X_resW,confidence=confidence,verbose=verbose)[-8]\n",
    "\n",
    "\n",
    "\n",
    "    return R2_partial, R2_semipartial"
   ]
  },
  {
   "cell_type": "code",
   "execution_count": 35,
   "metadata": {},
   "outputs": [],
   "source": [
    "Y = predictand_a\n",
    "W, X = predictor_a[:,0,None], predictor_a[:,1:]"
   ]
  },
  {
   "cell_type": "code",
   "execution_count": 36,
   "metadata": {},
   "outputs": [],
   "source": [
    "predictand_a = np.array([\n",
    "[1, 0, 0, 0, 0, 0,],\n",
    "[0, 0, 0, 0, 0, 0,],\n",
    "[0, 1, 0, 0, 0, 0,],\n",
    "[11, 4, 0, 0, 8, 1,],\n",
    "[11, 5, 17, 7, 0, 0,],\n",
    "[9, 6, 0, 0, 6, 2,],\n",
    "[9, 7, 13, 10, 0, 0,],\n",
    "[7, 8, 0, 0, 4, 3,],\n",
    "[7, 9, 10, 13, 0, 0,],\n",
    "[5, 10, 0, 0, 2, 4,],\n",
    "])\n",
    "\n",
    "predictor_a = np.array([\n",
    "[1,  0, 1, 0],\n",
    "[2,  0, 1, 0],\n",
    "[3,  0, 1, 0],\n",
    "[4,  0, 0, 1],\n",
    "[5,  1, 0, 0],\n",
    "[6,  0, 0, 1],\n",
    "[7,  1, 0, 0],\n",
    "[8,  0, 0, 1],\n",
    "[9,  1, 0, 0],\n",
    "[10, 0, 0, 1],\n",
    "])"
   ]
  },
  {
   "cell_type": "markdown",
   "metadata": {},
   "source": [
    "# Variation Partitioning!!!"
   ]
  },
  {
   "cell_type": "code",
   "execution_count": 37,
   "metadata": {},
   "outputs": [],
   "source": [
    "Y = pd.read_csv('https://raw.githubusercontent.com/JoeyBernhardt/NumericalEcology/refs/heads/master/DoubsSpe.csv',index_col='Unnamed: 0').drop(index=8).to_numpy()\n",
    "X = pd.read_csv('https://raw.githubusercontent.com/JoeyBernhardt/NumericalEcology/refs/heads/master/DoubsEnv.csv',index_col='Unnamed: 0').drop(index=8)"
   ]
  },
  {
   "cell_type": "code",
   "execution_count": 38,
   "metadata": {},
   "outputs": [],
   "source": [
    "topography_df = X[['alt','pen','deb']]\n",
    "# chemistry_df = X[['pH','dur','pho','nit','amm','oxy','dbo']]\n",
    "chemistry_df = X[['pH','dur','pho','nit','amm','oxy','dbo']]\n",
    "geography_df = X[['das']]\n",
    "\n",
    "topography = topography_df.to_numpy()\n",
    "chemistry = chemistry_df.to_numpy()\n",
    "geography = geography_df.to_numpy()\n",
    "\n",
    "# Hellinger Transform Y\n",
    "row_sum = np.sum(Y,axis=1)\n",
    "row_sum = np.reshape(row_sum,(len(row_sum),1))\n",
    "Y = np.sqrt(Y/row_sum)\n",
    "\n",
    "# mvf.standardise Xs\n",
    "topography = mvf.standardise(topography)\n",
    "chemistry = mvf.standardise(chemistry)\n",
    "geography = mvf.standardise(geography)\n",
    "\n"
   ]
  },
  {
   "cell_type": "code",
   "execution_count": 39,
   "metadata": {},
   "outputs": [],
   "source": [
    "variables = [topography,chemistry,geography]\n",
    "str_variables = ['Topography','Chemistry','Geography']"
   ]
  },
  {
   "cell_type": "code",
   "execution_count": 40,
   "metadata": {},
   "outputs": [
    {
     "data": {
      "image/png": "[encoded data removed]",
      "text/plain": [
       "<Figure size 640x480 with 1 Axes>"
      ]
     },
     "metadata": {},
     "output_type": "display_data"
    }
   ],
   "source": [
    "style = 'venn'\n",
    "R2_list, venn_dict = mvf.varpart(Y,variables,X_labels=str_variables,title='Doubs Fish Data Variation Partitioning Diagram',save_path=f'./doubs_varpart_{style}.svg',diagram=style)"
   ]
  },
  {
   "cell_type": "code",
   "execution_count": 41,
   "metadata": {},
   "outputs": [
    {
     "data": {
      "text/plain": [
       "{('Topography',): 0.3451,\n",
       " ('Chemistry',): 0.4744,\n",
       " ('Geography',): 0.3671,\n",
       " ('Topography', 'Chemistry'): 0.5864,\n",
       " ('Topography', 'Geography'): 0.511,\n",
       " ('Chemistry', 'Geography'): 0.5507,\n",
       " ('Topography', 'Chemistry', 'Geography'): 0.5871}"
      ]
     },
     "execution_count": 41,
     "metadata": {},
     "output_type": "execute_result"
    }
   ],
   "source": [
    "venn_dict"
   ]
  },
  {
   "cell_type": "code",
   "execution_count": 42,
   "metadata": {},
   "outputs": [
    {
     "name": "stdout",
     "output_type": "stream",
     "text": [
      "% error for ('Topography',) = 0.029%\n",
      "% error for ('Chemistry',) = 0.084%\n",
      "% error for ('Geography',) = 0.027%\n",
      "% error for ('Topography', 'Chemistry') = 0.068%\n",
      "% error for ('Topography', 'Geography') = 0.0%\n",
      "% error for ('Chemistry', 'Geography') = -0.054%\n",
      "% error for ('Topography', 'Chemistry', 'Geography') = 0.017%\n"
     ]
    }
   ],
   "source": [
    "venn_dict_legendre = {\n",
    "    ('Topography',): .345,\n",
    "    ('Chemistry',): .474,\n",
    "    ('Geography',): .367,\n",
    "    ('Topography', 'Chemistry'): .586,\n",
    "    ('Topography', 'Geography'): .511,\n",
    "    ('Chemistry', 'Geography'): .551,\n",
    "    ('Topography', 'Chemistry', 'Geography'): .587\n",
    "}\n",
    "\n",
    "for key in venn_dict_legendre:\n",
    "    print(f'% error for {key} = {np.round(100*((venn_dict[key]/venn_dict_legendre[key])-1),3)}%')"
   ]
  },
  {
   "cell_type": "code",
   "execution_count": 43,
   "metadata": {},
   "outputs": [
    {
     "data": {
      "image/png": "[encoded data removed]",
      "text/plain": [
       "<Figure size 640x480 with 1 Axes>"
      ]
     },
     "metadata": {},
     "output_type": "display_data"
    }
   ],
   "source": [
    "labels = ['X1','X2','X3']\n",
    "v = venn3(subsets=[1]*7,set_labels=labels,set_colors=(\"orange\", \"blue\", \"red\"), alpha=0.7)\n",
    "\n",
    "subsets_str = ['a','b','c','d','e','f','g']\n",
    "pos = ['100','010','001','110','011','101','111']\n",
    "\n",
    "for i in range(len(pos)):\n",
    "    v.get_label_by_id(pos[i]).set_text(f'[{subsets_str[i]}]')\n",
    "\n",
    "fig = plt.gcf()\n",
    "ax = plt.gca()\n",
    "\n",
    "rect_coord = (np.min(ax.get_xlim())-.15,np.min(ax.get_ylim())-.2)\n",
    "rect = plt.Rectangle(rect_coord,\n",
    "                     width  = np.max(ax.get_xlim())-np.min(ax.get_xlim()) + 0.15*2,\n",
    "                     height = np.max(ax.get_ylim())-np.min(ax.get_ylim()) + 0.3,\n",
    "                     edgecolor='k',ls='-',lw=1,facecolor='none',clip_on=False)\n",
    "\n",
    "ax.add_patch(rect)\n",
    "ax.text(rect_coord[0]+0.01,rect_coord[1]+0.02,f'[h]')\n",
    "\n",
    "ax.text(np.mean(plt.xlim()),np.max(plt.ylim())+.15,'Variation Partitioning Venn Diagram\\nfor 3 Multivariate Explanatory Variables',fontsize=15,ha='center')\n",
    "fig.savefig('example_venn.svg', dpi = 600, facecolor = '#fff', bbox_inches='tight')"
   ]
  },
  {
   "cell_type": "markdown",
   "metadata": {},
   "source": [
    "# Application of RDA to my Data"
   ]
  },
  {
   "cell_type": "code",
   "execution_count": 44,
   "metadata": {},
   "outputs": [],
   "source": [
    "mv_expl_var_file = 'explanatory_variables.csv'\n",
    "mv_expl_var_df = pd.read_csv(mv_expl_var_file)\n",
    "samples_names_x = mv_expl_var_df['samples'].to_numpy()\n",
    "samples_names_x = np.array([x.replace('-PW','') for x in samples_names_x])\n",
    "aem_expl_var = mv_expl_var_df['AEM'].to_numpy()\n",
    "dbmem_expl_var = mv_expl_var_df['dbMEM'].to_numpy()"
   ]
  },
  {
   "cell_type": "markdown",
   "metadata": {},
   "source": [
    "## MS"
   ]
  },
  {
   "cell_type": "code",
   "execution_count": 45,
   "metadata": {},
   "outputs": [],
   "source": [
    "ms_data_dir = '../../Data/MS_data/CSV_files/processed_csv_data_dir'\n",
    "ms_data_file = 'overall_intensity_ordination_table.csv'\n",
    "ms_df = pd.read_csv(f'{ms_data_dir}/{ms_data_file}',index_col=0)\n",
    "ms_df = ms_df[ms_df['replicate_y/n']==0].drop('replicate_y/n',axis=1)\n",
    "ms_df[ms_df.isna()] = 0\n",
    "ms_df[ms_df > 0] = 1\n",
    "samples_names_ms = np.array(ms_df.index)\n",
    "hm_ms_names = np.array([x for x in samples_names_ms if 'HM' in x])\n",
    "am_ms_names = np.array([x for x in samples_names_ms if 'AM' in x])"
   ]
  },
  {
   "cell_type": "code",
   "execution_count": 46,
   "metadata": {},
   "outputs": [],
   "source": [
    "hm_ms_arr = ms_df.to_numpy()[np.where(np.isin(samples_names_ms,hm_ms_names))]\n",
    "am_ms_arr = ms_df.to_numpy()[np.where(np.isin(samples_names_ms,am_ms_names))]"
   ]
  },
  {
   "cell_type": "code",
   "execution_count": 47,
   "metadata": {},
   "outputs": [],
   "source": [
    "hm_aem_expl_var = aem_expl_var[np.where(np.isin(samples_names_x,hm_ms_names))]\n",
    "hm_dbmem_expl_var = dbmem_expl_var[np.where(np.isin(samples_names_x,hm_ms_names))]\n",
    "am_aem_expl_var = aem_expl_var[np.where(np.isin(samples_names_x,am_ms_names))]\n",
    "am_dbmem_expl_var = dbmem_expl_var[np.where(np.isin(samples_names_x,am_ms_names))]"
   ]
  },
  {
   "cell_type": "code",
   "execution_count": 48,
   "metadata": {},
   "outputs": [],
   "source": [
    "dbmem_expl_var_list = []\n",
    "for line in dbmem_expl_var:\n",
    "    dbmem_expl_var_list.append(np.array([x for x in line.replace('[','').replace(']','').replace('\\n','').split(' ') if x != '']).astype(float))\n",
    "max_len = np.max([len(x) for x in dbmem_expl_var_list])\n",
    "# dbmem_expl_var_list = [np.append(x,[0]*(max_len-len(x))) for x in dbmem_expl_var_list]\n",
    "# dbmem_expl_var = np.array(dbmem_expl_var_list)\n",
    "aem_expl_var_list = []\n",
    "for line in aem_expl_var:\n",
    "    aem_expl_var_list.append(np.array([x for x in line.replace('[','').replace(']','').replace('\\n','').split(' ') if x != '']).astype(float))\n",
    "max_len = np.max([len(x) for x in aem_expl_var_list])"
   ]
  },
  {
   "cell_type": "code",
   "execution_count": 49,
   "metadata": {},
   "outputs": [],
   "source": [
    "am_idx_x = [i for i in range(len(samples_names_x)) if samples_names_x[i] in am_ms_names]\n",
    "hm_idx_x = [i for i in range(len(samples_names_x)) if samples_names_x[i] in hm_ms_names]\n",
    "am_dbmem_expl_var_arr = np.array([dbmem_expl_var_list[idx] for idx in am_idx_x])\n",
    "hm_dbmem_expl_var_arr = np.array([dbmem_expl_var_list[idx] for idx in hm_idx_x])\n",
    "am_dbmem_expl_var_arr = np.array([dbmem_expl_var_list[idx] for idx in am_idx_x])\n",
    "hm_dbmem_expl_var_arr = np.array([dbmem_expl_var_list[idx] for idx in hm_idx_x])\n",
    "am_aem_expl_var_arr = np.array([aem_expl_var_list[idx] for idx in am_idx_x])\n",
    "hm_aem_expl_var_arr = np.array([aem_expl_var_list[idx] for idx in hm_idx_x])\n",
    "am_aem_expl_var_arr = np.array([aem_expl_var_list[idx] for idx in am_idx_x])\n",
    "hm_aem_expl_var_arr = np.array([aem_expl_var_list[idx] for idx in hm_idx_x])"
   ]
  },
  {
   "cell_type": "code",
   "execution_count": 50,
   "metadata": {},
   "outputs": [
    {
     "name": "stdout",
     "output_type": "stream",
     "text": [
      "The null-hypothesis is True in the 95.0% confidence range (F-statistic = 1.02, critical F value = 19.3).\n",
      "p = 0.562\n"
     ]
    },
    {
     "name": "stderr",
     "output_type": "stream",
     "text": [
      "c:\\Users\\polim\\OneDrive - University of Edinburgh\\Y5\\Y5_Code\\multivariate_analysis\\../mchem_functions\\multivariate_functions.py:45: RuntimeWarning: invalid value encountered in divide\n",
      "  return np.divide(np.subtract(matrix,np.mean(matrix,axis=0)) , np.std(matrix,axis=0))\n"
     ]
    }
   ],
   "source": [
    "(eigvals_can, proportion_explained_can, U_can, Z_can, eigvals_noncan,\n",
    " proportion_explained_noncan, U_noncan, Z_noncan, R2_partial, R2_a, r_k,\n",
    " R_XZ, BS_1, F_statistic, crit_F_value, p_value) = mvf.RDA(hm_ms_arr,hm_dbmem_expl_var_arr)"
   ]
  },
  {
   "cell_type": "code",
   "execution_count": 51,
   "metadata": {},
   "outputs": [
    {
     "name": "stdout",
     "output_type": "stream",
     "text": [
      "m > n-1: the system is overdetermined, X has too many explanatory variables\n",
      "The null-hypothesis is False in the 95.0% confidence range (F-statistic = -0.14, critical F value = nan).\n",
      "p = nan\n"
     ]
    }
   ],
   "source": [
    "(eigvals_can, proportion_explained_can, U_can, Z_can, eigvals_noncan,\n",
    " proportion_explained_noncan, U_noncan, Z_noncan, R2_partial, R2_a, r_k,\n",
    " R_XZ, BS_1, F_statistic, crit_F_value, p_value) = mvf.RDA(am_ms_arr,am_dbmem_expl_var_arr)"
   ]
  },
  {
   "cell_type": "code",
   "execution_count": 52,
   "metadata": {},
   "outputs": [
    {
     "name": "stdout",
     "output_type": "stream",
     "text": [
      "aem #1\n",
      "The null-hypothesis is True in the 95.0% confidence range (F-statistic = 0.26, critical F value = 5.99).\n",
      "p = 0.631\n",
      "R2 -0.1189559083513636\n",
      "aem #2\n",
      "The null-hypothesis is True in the 95.0% confidence range (F-statistic = 0.64, critical F value = 5.99).\n",
      "p = 0.455\n",
      "R2 -0.054362596227435\n",
      "aem #3\n",
      "The null-hypothesis is True in the 95.0% confidence range (F-statistic = 0.47, critical F value = 5.99).\n",
      "p = 0.517\n",
      "R2 -0.08116735804102215\n",
      "aem #4\n",
      "The null-hypothesis is True in the 95.0% confidence range (F-statistic = 0.64, critical F value = 5.99).\n",
      "p = 0.455\n",
      "R2 -0.05467650317839068\n",
      "aem #5\n",
      "The null-hypothesis is True in the 95.0% confidence range (F-statistic = 0.04, critical F value = 5.99).\n",
      "p = 0.85\n",
      "R2 -0.15913016196382546\n",
      "aem #6\n",
      "The null-hypothesis is True in the 95.0% confidence range (F-statistic = 0.0, critical F value = 5.99).\n",
      "p = 0.983\n",
      "R2 -0.16657074859588716\n",
      "aem #7\n",
      "The null-hypothesis is True in the 95.0% confidence range (F-statistic = 0.33, critical F value = 5.99).\n",
      "p = 0.584\n",
      "R2 -0.1050115427653342\n",
      "aem #8\n",
      "The null-hypothesis is True in the 95.0% confidence range (F-statistic = 0.63, critical F value = 5.99).\n",
      "p = 0.459\n",
      "R2 -0.05659388132017762\n",
      "aem #9\n",
      "The null-hypothesis is True in the 95.0% confidence range (F-statistic = 0.01, critical F value = 5.99).\n",
      "p = 0.94\n",
      "R2 -0.16545223102364348\n"
     ]
    }
   ],
   "source": [
    "for i in range(len(hm_aem_expl_var_arr[0,:])):\n",
    "    print(f'aem #{i+1}')\n",
    "    (eigvals_can, proportion_explained_can, U_can, Z_can, eigvals_noncan,\n",
    "    proportion_explained_noncan, U_noncan, Z_noncan, R2_partial, R2_a, r_k,\n",
    "    R_XZ, BS_1, F_statistic, crit_F_value, p_value) = mvf.RDA(hm_ms_arr,np.reshape(hm_aem_expl_var_arr[:,i],(len(hm_aem_expl_var_arr[:,i]),1)))\n",
    "    print(f'R2 {R2_a}')"
   ]
  },
  {
   "cell_type": "code",
   "execution_count": null,
   "metadata": {},
   "outputs": [
    {
     "ename": "AssertionError",
     "evalue": "m >= (n-1): The system is overdetermined. If m == (n-1), R^2 cannot be calculated",
     "output_type": "error",
     "traceback": [
      "\u001b[1;31m---------------------------------------------------------------------------\u001b[0m",
      "\u001b[1;31mAssertionError\u001b[0m                            Traceback (most recent call last)",
      "Cell \u001b[1;32mIn[53], line 3\u001b[0m\n\u001b[0;32m      1\u001b[0m (eigvals_can, proportion_explained_can, U_can, Z_can, eigvals_noncan,\n\u001b[0;32m      2\u001b[0m proportion_explained_noncan, U_noncan, Z_noncan, R2_partial, R2_a, r_k,\n\u001b[1;32m----> 3\u001b[0m R_XZ, BS_1, F_statistic, crit_F_value, p_value) \u001b[38;5;241m=\u001b[39m \u001b[43mmvf\u001b[49m\u001b[38;5;241;43m.\u001b[39;49m\u001b[43mRDA\u001b[49m\u001b[43m(\u001b[49m\u001b[43mhm_ms_arr\u001b[49m\u001b[43m,\u001b[49m\u001b[43mhm_aem_expl_var_arr\u001b[49m\u001b[43m[\u001b[49m\u001b[43m:\u001b[49m\u001b[43m,\u001b[49m\u001b[43m:\u001b[49m\u001b[38;5;241;43m7\u001b[39;49m\u001b[43m]\u001b[49m\u001b[43m)\u001b[49m\n\u001b[0;32m      4\u001b[0m \u001b[38;5;28mprint\u001b[39m(\u001b[38;5;124mf\u001b[39m\u001b[38;5;124m'\u001b[39m\u001b[38;5;124mR2 \u001b[39m\u001b[38;5;132;01m{\u001b[39;00mR2_a\u001b[38;5;132;01m}\u001b[39;00m\u001b[38;5;124m'\u001b[39m)\n",
      "File \u001b[1;32mc:\\Users\\polim\\OneDrive - University of Edinburgh\\Y5\\Y5_Code\\multivariate_analysis\\../mchem_functions\\multivariate_functions.py:394\u001b[0m, in \u001b[0;36mRDA\u001b[1;34m(Y, X, confidence, verbose)\u001b[0m\n\u001b[0;32m    392\u001b[0m n, p \u001b[38;5;241m=\u001b[39m np\u001b[38;5;241m.\u001b[39mshape(Y)\n\u001b[0;32m    393\u001b[0m m \u001b[38;5;241m=\u001b[39m np\u001b[38;5;241m.\u001b[39mshape(X)[\u001b[38;5;241m1\u001b[39m]\n\u001b[1;32m--> 394\u001b[0m \u001b[38;5;28;01massert\u001b[39;00m m \u001b[38;5;241m!=\u001b[39m (n\u001b[38;5;241m-\u001b[39m\u001b[38;5;241m1\u001b[39m), \u001b[38;5;124m'\u001b[39m\u001b[38;5;124mm >= (n-1): The system is overdetermined. If m == (n-1), R^2 cannot be calculated\u001b[39m\u001b[38;5;124m'\u001b[39m\n\u001b[0;32m    395\u001b[0m \u001b[38;5;28;01mif\u001b[39;00m m \u001b[38;5;241m>\u001b[39m n\u001b[38;5;241m-\u001b[39m\u001b[38;5;241m1\u001b[39m: \u001b[38;5;28mprint\u001b[39m(\u001b[38;5;124m'\u001b[39m\u001b[38;5;124mm > n-1: the system is overdetermined, X has too many explanatory variables\u001b[39m\u001b[38;5;124m'\u001b[39m)\n\u001b[0;32m    397\u001b[0m \u001b[38;5;66;03m# Center the matrices Y and X\u001b[39;00m\n",
      "\u001b[1;31mAssertionError\u001b[0m: m >= (n-1): The system is overdetermined. If m == (n-1), R^2 cannot be calculated"
     ]
    }
   ],
   "source": [
    "# (eigvals_can, proportion_explained_can, U_can, Z_can, eigvals_noncan,\n",
    "# proportion_explained_noncan, U_noncan, Z_noncan, R2_partial, R2_a, r_k,\n",
    "# R_XZ, BS_1, F_statistic, crit_F_value, p_value) = mvf.RDA(hm_ms_arr,hm_aem_expl_var_arr[:,:7])\n",
    "# print(f'R2 {R2_a}')"
   ]
  },
  {
   "cell_type": "markdown",
   "metadata": {},
   "source": [
    "## NMR"
   ]
  },
  {
   "cell_type": "code",
   "execution_count": 61,
   "metadata": {},
   "outputs": [],
   "source": [
    "sites_long_names = {\n",
    "    'HM': 'Hare Moss',\n",
    "    'AM': 'Auchencorth Moss'\n",
    "}\n",
    "\n",
    "def get_attr(s:str):\n",
    "    s = s.replace('MP-','').replace('PW-','')\n",
    "    sample_name = s\n",
    "    s = s.split('-')\n",
    "    site = s[0]\n",
    "    sitelong = sites_long_names[site]\n",
    "    season = s[-2]\n",
    "    replicate = s[-1]\n",
    "\n",
    "    return sample_name,site,sitelong,season,replicate"
   ]
  },
  {
   "cell_type": "code",
   "execution_count": null,
   "metadata": {},
   "outputs": [],
   "source": [
    "path = \"..\\\\..\\\\Data\\\\NMR\\\\nmr_archive\\\\*\\\\11\\\\pdata\\\\*\\\\integrals.txt\"\n",
    "integral_files = glob.glob(path)\n",
    "integrals_list = []\n",
    "attribute_list = []\n",
    "\n",
    "for file in integral_files:\n",
    "\n",
    "    # make sure all -'s are separated with at least one space\n",
    "    with open(file, 'r') as f:\n",
    "        filedata = f.read()\n",
    "    filedata = filedata.replace('-', ' -')\n",
    "    with open(file, 'w') as f:\n",
    "        f.write(filedata)\n",
    "    f.close()\n",
    "\n",
    "    int_df = pd.read_csv(file,skiprows=4,sep=r\"\\s+\")\n",
    "    file = file.replace('..\\\\..\\\\Data\\\\NMR\\\\nmr_archive\\\\','').replace('\\\\11\\\\pdata\\\\1\\\\integrals.txt','')\n",
    "    integrals_list.append(int_df['Integral'].to_numpy())\n",
    "    attribute_list.append([*get_attr(file)])\n",
    "\n",
    "    if len(integrals_list[-1]) == 0:\n",
    "        print(attribute_list[-1])\n",
    "\n",
    "ppm = np.mean(int_df[['Integrated','Region']].to_numpy(),axis=1)\n",
    "\n",
    "attribute_array = np.array(attribute_list)\n",
    "integrals_arr = np.array(integrals_list)\n",
    "no_of_spectra = len(integrals_arr)\n",
    "\n",
    "row_sum = np.sum(integrals_arr,axis=1)\n",
    "integrals_arr = integrals_arr / np.reshape(row_sum,(len(row_sum),1))\n",
    "\n",
    "# set regions to exclude and exclude them\n",
    "regions_to_exclude = [[np.min(ppm),0.5],\n",
    "                      [1.92,2],\n",
    "                      [4.5,5.77], #[4.5,5.07]             \n",
    "                      [8.2,np.max(ppm)]] # 8.2,9\n",
    "\n",
    "idx_to_exclude = []\n",
    "for r in regions_to_exclude:\n",
    "    idx_to_exclude += [*np.where((ppm>=np.min(r))&(ppm<=np.max(r)))[0]]\n",
    "idx_to_exclude = np.array(idx_to_exclude)\n",
    "idx_to_include = np.array([x for x in np.arange(len(ppm)) if x not in idx_to_exclude])\n",
    "ppm = ppm[idx_to_include]\n",
    "integrals_arr = integrals_arr[:,idx_to_include]"
   ]
  },
  {
   "cell_type": "code",
   "execution_count": 94,
   "metadata": {},
   "outputs": [],
   "source": [
    "nmr_unique_names = np.sort(np.unique(['-'.join(x.split('-')[:-1]) for x in attribute_array[:,0]]))\n",
    "avg_arr = np.array([np.mean(integrals_arr[[i for i in range(len(attribute_array[:,0])) if name in attribute_array[:,0][i]],:],axis=0) for name in nmr_unique_names])\n",
    "snv = mvf.SNV(avg_arr)\n",
    "\n",
    "am_nmr_unique_names = [x for x in nmr_unique_names if 'AM' in x]\n",
    "hm_nmr_unique_names = [x for x in nmr_unique_names if 'HM' in x]\n",
    "am_snv = np.array([snv[i,:] for i in range(len(snv[:,0])) if 'AM' in nmr_unique_names[i]])\n",
    "hm_snv = np.array([snv[i,:] for i in range(len(snv[:,0])) if 'HM' in nmr_unique_names[i]])"
   ]
  },
  {
   "cell_type": "code",
   "execution_count": 98,
   "metadata": {},
   "outputs": [],
   "source": [
    "am_idx_x = [i for i in range(len(samples_names_x)) if samples_names_x[i] in am_nmr_unique_names]\n",
    "hm_idx_x = [i for i in range(len(samples_names_x)) if samples_names_x[i] in hm_nmr_unique_names]\n",
    "am_dbmem_expl_var_arr = np.array([dbmem_expl_var_list[idx] for idx in am_idx_x])\n",
    "hm_dbmem_expl_var_arr = np.array([dbmem_expl_var_list[idx] for idx in hm_idx_x])\n",
    "am_dbmem_expl_var_arr = np.array([dbmem_expl_var_list[idx] for idx in am_idx_x])\n",
    "hm_dbmem_expl_var_arr = np.array([dbmem_expl_var_list[idx] for idx in hm_idx_x])\n",
    "am_aem_expl_var_arr = np.array([aem_expl_var_list[idx] for idx in am_idx_x])\n",
    "hm_aem_expl_var_arr = np.array([aem_expl_var_list[idx] for idx in hm_idx_x])\n",
    "am_aem_expl_var_arr = np.array([aem_expl_var_list[idx] for idx in am_idx_x])\n",
    "hm_aem_expl_var_arr = np.array([aem_expl_var_list[idx] for idx in hm_idx_x])"
   ]
  },
  {
   "cell_type": "code",
   "execution_count": 99,
   "metadata": {},
   "outputs": [
    {
     "data": {
      "text/plain": [
       "array(['AM-A-Aut', 'AM-C-Aut', 'AM-E-Aut', 'AM-A-Win1', 'AM-C-Win1',\n",
       "       'AM-E-Win1'], dtype='<U10')"
      ]
     },
     "execution_count": 99,
     "metadata": {},
     "output_type": "execute_result"
    }
   ],
   "source": [
    "samples_names_x[am_idx_x]"
   ]
  },
  {
   "cell_type": "code",
   "execution_count": 100,
   "metadata": {},
   "outputs": [
    {
     "data": {
      "text/plain": [
       "[np.str_('AM-A-Aut'),\n",
       " np.str_('AM-A-Win1'),\n",
       " np.str_('AM-C-Aut'),\n",
       " np.str_('AM-C-Win1'),\n",
       " np.str_('AM-E-Aut'),\n",
       " np.str_('AM-E-Win1')]"
      ]
     },
     "execution_count": 100,
     "metadata": {},
     "output_type": "execute_result"
    }
   ],
   "source": [
    "am_nmr_unique_names"
   ]
  },
  {
   "cell_type": "code",
   "execution_count": null,
   "metadata": {},
   "outputs": [],
   "source": []
  }
 ],
 "metadata": {
  "kernelspec": {
   "display_name": "Python 3",
   "language": "python",
   "name": "python3"
  },
  "language_info": {
   "codemirror_mode": {
    "name": "ipython",
    "version": 3
   },
   "file_extension": ".py",
   "mimetype": "text/x-python",
   "name": "python",
   "nbconvert_exporter": "python",
   "pygments_lexer": "ipython3",
   "version": "3.13.0"
  }
 },
 "nbformat": 4,
 "nbformat_minor": 2
}
