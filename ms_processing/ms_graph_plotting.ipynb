{
 "cells": [
  {
   "cell_type": "code",
   "execution_count": 1,
   "metadata": {},
   "outputs": [],
   "source": [
    "import numpy as np # v. 1.22.1\n",
    "import matplotlib.pyplot as plt # v. 3.7.5\n",
    "import os\n",
    "import pandas as pd # v. 1.5.3\n",
    "import pykrev as pk # v. 1.2.4\n",
    "\n",
    "import sys\n",
    "sys.path.append('../mchem_functions')\n",
    "import ms_functions_and_defs as msf"
   ]
  },
  {
   "cell_type": "code",
   "execution_count": 2,
   "metadata": {},
   "outputs": [],
   "source": [
    "ms_dir = '../../Data/MS_data'\n",
    "\n",
    "intensity_ordination_table_path = 'CSV_files/processed_csv_data_dir/overall_intensity_ordination_table.csv'\n",
    "mz_ordination_table_path = 'CSV_files/processed_csv_data_dir/overall_mz_ordination_table.csv'\n",
    "\n",
    "image_format = 'svg' #jpeg, png, svg...\n",
    "cmap = 'summer'\n",
    "\n",
    "mz_limits = [200,800]"
   ]
  },
  {
   "cell_type": "code",
   "execution_count": 3,
   "metadata": {},
   "outputs": [],
   "source": [
    "# Change directory to the ms_dir\n",
    "try: os.chdir(ms_dir)\n",
    "except FileNotFoundError: pass\n",
    "plots_dir = 'plots'\n",
    "if not os.path.exists(plots_dir): os.mkdir(plots_dir)\n",
    "\n",
    "if not image_format.startswith('.'): image_format = '.' + image_format"
   ]
  },
  {
   "cell_type": "code",
   "execution_count": 4,
   "metadata": {},
   "outputs": [],
   "source": [
    "df_intensity = pd.read_csv(intensity_ordination_table_path,index_col=0)\n",
    "df_intensity = df_intensity[df_intensity['replicate_y/n']==0].drop(['replicate_y/n'],axis=1)\n",
    "\n",
    "df_mz = pd.read_csv(mz_ordination_table_path,index_col=0)\n",
    "df_mz = df_mz[df_mz['replicate_y/n']==0].drop(['replicate_y/n'],axis=1)"
   ]
  },
  {
   "cell_type": "code",
   "execution_count": 5,
   "metadata": {},
   "outputs": [],
   "source": [
    "assert np.all(df_mz.index == df_intensity.index), 'The samples (indices) in df_mz and df_intensity must be the same'\n",
    "sample_names = df_mz.index\n",
    "\n",
    "assert np.all(df_mz.columns == df_intensity.columns), 'The compounds (columns headers) in df_mz and df_intensity must be the same'\n",
    "molecformulae_strs = df_mz.columns"
   ]
  },
  {
   "cell_type": "code",
   "execution_count": 6,
   "metadata": {},
   "outputs": [],
   "source": [
    "# filter the values based on the m/z restraints given before\n",
    "if mz_limits != []:\n",
    "    avg_mz = np.nanmean(df_mz, axis=0)\n",
    "    # mz_filter = np.where((avg_mz>np.min(mz_limits))&(avg_mz<np.max(mz_limits)))\n",
    "    filtered_formulae = molecformulae_strs[np.where((avg_mz>np.min(mz_limits))&(avg_mz<np.max(mz_limits)))]\n",
    "    df_mz = df_mz[filtered_formulae]\n",
    "    df_intensity = df_intensity[filtered_formulae]"
   ]
  },
  {
   "cell_type": "code",
   "execution_count": 7,
   "metadata": {},
   "outputs": [],
   "source": [
    "info_dicts = []\n",
    "for f in molecformulae_strs:\n",
    "    info_dicts.append(msf.MolecFormulaDict(f))"
   ]
  },
  {
   "cell_type": "code",
   "execution_count": 8,
   "metadata": {},
   "outputs": [],
   "source": [
    "# Fill out the missing elements in those compound that don't have them for later ease\n",
    "info_dicts = np.array(info_dicts)\n",
    "all_elements = []\n",
    "\n",
    "for d in info_dicts:\n",
    "    for k in d.keys():\n",
    "        if k not in all_elements: all_elements.append(k)\n",
    "\n",
    "for i in range(len(info_dicts)):\n",
    "    for e in all_elements:\n",
    "        if e not in info_dicts[i].keys():\n",
    "            info_dicts[i][e] = 0"
   ]
  },
  {
   "cell_type": "code",
   "execution_count": 9,
   "metadata": {},
   "outputs": [],
   "source": [
    "# make dataframe\n",
    "\n",
    "for i in range(len(info_dicts)):\n",
    "    if i == 0:\n",
    "        info_df = pd.DataFrame(info_dicts[i], index=[molecformulae_strs[i]])\n",
    "    else:\n",
    "        info_df = pd.concat([info_df, pd.DataFrame(info_dicts[i], index=[molecformulae_strs[i]])],axis=0)\n",
    "\n",
    "# info_df"
   ]
  },
  {
   "cell_type": "code",
   "execution_count": 10,
   "metadata": {},
   "outputs": [],
   "source": [
    "for e in all_elements:\n",
    "    if e != 'C':\n",
    "        info_df[f'{e}/C'] = info_df[e] / info_df['C']\n",
    "        info_df[f'{e}/C'] = info_df[e] / info_df['C']\n",
    "        info_df[f'{e}/C'] = info_df[e] / info_df['C']\n",
    "\n",
    "info_df['DBE'] = msf.dbe(info_df['C'],info_df['H'],info_df['N'])\n",
    "info_df['DBE-O'] = msf.dbe_o(info_df['C'],info_df['H'],info_df['N'],info_df['O'])\n",
    "info_df['AI'] = msf.AI(info_df['C'],info_df['H'],info_df['N'],info_df['O'],info_df['S'],np.zeros(len(info_df['C'])))\n",
    "\n",
    "kmass_list = []\n",
    "kmd_list = []\n",
    "z_list = []\n",
    "for i in range(len(info_dicts)):\n",
    "    kmass, kmd, z = msf.kendrick_analysis(info_dicts[i])\n",
    "    kmass_list.append(kmass)\n",
    "    kmd_list.append(kmd)\n",
    "    z_list.append(z)\n",
    "\n",
    "info_df['Kendrick_mass'] = kmass_list\n",
    "info_df['KMD'] = kmd_list\n",
    "info_df['z*'] = z_list\n",
    "# info_df"
   ]
  },
  {
   "cell_type": "code",
   "execution_count": 11,
   "metadata": {},
   "outputs": [],
   "source": [
    "for name in sample_names:\n",
    "    # only select the molecules in the dataframe that are present in that sample\n",
    "\n",
    "    selected_df = info_df.copy().loc[df_mz.loc[name].copy().dropna().index]\n",
    "\n",
    "    # create the directories needed unless already there\n",
    "    sample_dir = f'{plots_dir}/{name}'\n",
    "    sample_kendrick_dir = f'{sample_dir}/kendrick_plots'\n",
    "    if not os.path.exists(sample_dir): os.mkdir(sample_dir)\n",
    "    if not os.path.exists(sample_kendrick_dir): os.mkdir(sample_kendrick_dir)\n",
    "\n",
    "    selected_mz = df_mz.loc[name].copy().dropna().values\n",
    "    selected_intensity = df_intensity.loc[name].copy().dropna().values\n",
    "\n",
    "    # plot the figures and save them\n",
    "    msf.massspectrum_plot(selected_mz,selected_intensity,\n",
    "                          title=f'Mass Spectrum for {name}',\n",
    "                          save_path=f\"{sample_dir}/{name}_mass_spectrum{image_format}\")\n",
    "\n",
    "    msf.density_vk_diagram(selected_df,cmap=cmap,\n",
    "                           title=f'Van Krevelen Diagram for {name}',\n",
    "                           save_path=f\"{sample_dir}/{name}_vkd_density{image_format}\")\n",
    "\n",
    "    msf.vk_molecclass(selected_df,alpha=0.75,\n",
    "                      title=f'Van Krevelen Diagram by Biomolecular Class for {name}',\n",
    "                      save_path=f\"{sample_dir}/{name}_vkd_molecclass{image_format}\")\n",
    "\n",
    "    msf.vk_ai(selected_df,selected_df['AI'],\n",
    "              title=f'Van Krevelen Diagram by Aromatic Index for {name}',\n",
    "              save_path=f\"{sample_dir}/{name}_vkd_ai{image_format}\")\n",
    "    \n",
    "    msf.kendrick_plot(selected_df['Kendrick_mass'].to_numpy(),selected_df['KMD'].to_numpy(),\n",
    "                      title=f'Kendrick Mass Plot for {name}',\n",
    "                      save_path=f\"{sample_dir}/{name}_kendrick_plot{image_format}\")\n",
    "    \n",
    "    msf.dbe_plot(selected_mz,selected_df['DBE'],xlim=mz_limits,width=0.5,\n",
    "                 title=f'Double Bond Equivalent Plot for {name}',\n",
    "                 save_path=f\"{sample_dir}/{name}_dbe_plot{image_format}\")\n",
    "\n",
    "    msf.dbe_plot(selected_mz,selected_df['DBE-O'],xlim=mz_limits,width=0.5,\n",
    "                 title=f'O-Adjusted Double Bond Equivalent (DBE$-$O) Plot for {name}',\n",
    "                 save_path=f\"{sample_dir}/{name}_dbe-o_plot{image_format}\")\n",
    "\n",
    "    plt.close('all')\n",
    "\n",
    "    z_unique = np.unique(selected_df['z*'])\n",
    "    for z in z_unique:\n",
    "        msf.kendrick_plot(selected_df['Kendrick_mass'].to_numpy(),selected_df['KMD'].to_numpy(),selected_df['z*'].to_numpy(),z,\n",
    "                          title=f'Kendrick Mass Plot for {name}', #z* value is inserted by msf.kendrick_plot\n",
    "                          save_path=f\"{sample_kendrick_dir}/{name}_kendrick_plot_z={int(z)}{image_format}\")\n",
    "    \n",
    "    plt.close('all') # close all figures to avoid taking up too much memory"
   ]
  }
 ],
 "metadata": {
  "kernelspec": {
   "display_name": "Python 3",
   "language": "python",
   "name": "python3"
  },
  "language_info": {
   "codemirror_mode": {
    "name": "ipython",
    "version": 3
   },
   "file_extension": ".py",
   "mimetype": "text/x-python",
   "name": "python",
   "nbconvert_exporter": "python",
   "pygments_lexer": "ipython3",
   "version": "3.10.11"
  }
 },
 "nbformat": 4,
 "nbformat_minor": 2
}
