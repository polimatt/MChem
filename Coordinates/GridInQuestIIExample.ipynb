{
 "cells": [
  {
   "cell_type": "code",
   "execution_count": 1,
   "metadata": {},
   "outputs": [],
   "source": [
    "# Grid InQuest II example calling GIQ dynamic library from Python.\n",
    "#\n",
    "# Copyright (C) 2016 Paul Michell, Michell Computing.\n",
    "#\n",
    "# This library is free software; you can redistribute it and/or modify it\n",
    "# under the terms of the GNU Library General Public License as published by\n",
    "# the Free Software Foundation; either version 2 of the License, or (at your\n",
    "# option) any later version.\n",
    "\n",
    "# This program is distributed in the hope that it will be useful, but WITHOUT\n",
    "# ANY WARRANTY; without even the implied warranty of MERCHANTABILITY or\n",
    "# FITNESS FOR A PARTICULAR PURPOSE. See the GNU Library General Public License\n",
    "# for more details.\n",
    "\n",
    "# Setup required library imports.\n",
    "import sys\n",
    "import os\n",
    "from math import radians as deg2rad\n",
    "from ctypes import *\n",
    "import pandas as pd\n",
    "import numpy as np"
   ]
  },
  {
   "cell_type": "code",
   "execution_count": 2,
   "metadata": {},
   "outputs": [],
   "source": [
    "# csv_path = r\"\\\\mull.sms.ed.ac.uk\\home\\s2017658\\Win7\\Desktop\\HareMossWaterLoggers.csv\"\n",
    "# csv = pd.read_csv(csv_path)\n",
    "# # csv\n",
    "# coord = csv[['Latitude','Longitude']].to_numpy()\n",
    "# save = False"
   ]
  },
  {
   "cell_type": "code",
   "execution_count": 25,
   "metadata": {},
   "outputs": [],
   "source": [
    "coord_dict = {\n",
    "    'Latitude':[55.7973476,55.7973476,55.7973476],\n",
    "    'Longitude':[-3.2629141,-3.2629141,-3.2629141]\n",
    "}\n",
    "coord_df = pd.DataFrame(coord_dict)\n",
    "coord = coord_df[['Latitude','Longitude']].to_numpy()"
   ]
  },
  {
   "cell_type": "code",
   "execution_count": 26,
   "metadata": {},
   "outputs": [],
   "source": [
    "# Load the GIQ dynamic library.\n",
    "# if sys.platform.startswith('win'):\n",
    "#   LibName = \"GIQ.dll\"\n",
    "# elif sys.platform.startswith('linux'):\n",
    "#   LibName = \"libgiq.so\"\n",
    "# elif sys.platform.startswith('darwin'):\n",
    "#   LibName = \"libGIQ.dylib\"\n",
    "LibName = \"GIQ.dll\"\n",
    "__file__ = 'Extensions/GIQ.dll' #r'C:\\Users\\s2017658\\Downloads\\GridInQuestII-Win64-0101e\\GridInQuestII-Win64-0101e\\GIQ.dll'\n",
    "# Construct the GIQ library file path.\n",
    "LibFolder = os.path.split(os.path.realpath(__file__))[0]\n",
    "LibPath = os.path.join(LibFolder, LibName)\n"
   ]
  },
  {
   "cell_type": "code",
   "execution_count": 27,
   "metadata": {},
   "outputs": [],
   "source": [
    "# # Load the GIQ dynamic library.\n",
    "# if sys.platform.startswith('win'):\n",
    "#   GIQLib = WinDLL(LibPath)\n",
    "# elif sys.platform.startswith('linux'):\n",
    "#   GIQLib = CDLL(LibPath)\n",
    "# elif sys.platform.startswith('darwin'):\n",
    "#   GIQLib = CDLL(LibPath)\n",
    "# else:\n",
    "#   print(\"Unsupported OS\")\n",
    "#   exit()\n",
    "\n",
    "GIQLib = WinDLL(LibPath)"
   ]
  },
  {
   "cell_type": "code",
   "execution_count": 28,
   "metadata": {},
   "outputs": [],
   "source": [
    "# Define the library coordinate structure.\n",
    "class coordinates(Structure):\n",
    "     _fields_ = [(\"x\", c_double),\n",
    "                 (\"y\", c_double),\n",
    "                 (\"z\", c_double)]\n",
    "\n",
    "# Reference the library convert function.\n",
    "Convert = GIQLib.ConvertCoordinates\n",
    "Convert.argtypes = [c_int, c_int, c_int, c_int, \n",
    "                    POINTER(coordinates),\n",
    "                    POINTER(coordinates), POINTER(c_int)]\n",
    "Convert.restype = bool\n",
    "\n",
    "# Setup the calling parameter values.\n",
    "SRIDSource = c_int(4937) # ETRS89 Geodetic.\n",
    "RevisionSource = c_int(0) # No revision required.\n",
    "SRIDTarget = c_int(27700) # OSGB36 / British National Grid\n",
    "RevisionTarget = c_int(2015) # Revision for ITM/GM15.  This can also be 2002 for ITM/GM02.\n"
   ]
  },
  {
   "cell_type": "code",
   "execution_count": 29,
   "metadata": {},
   "outputs": [],
   "source": [
    "def geod2bns(lat,long,i):\n",
    "    Source = coordinates(deg2rad(long), deg2rad(lat), 0) # Longitude, Latitude, Altitude.\n",
    "    Target = coordinates(0, 0, 0)\n",
    "    Datum = c_int(i)\n",
    "    # CallOK = bool(False)\n",
    "    # Call coordinate converter.\n",
    "    CallOK = Convert(SRIDSource, SRIDTarget, RevisionSource, RevisionTarget, Source, Target, Datum)\n",
    "    northing = Target.y\n",
    "    easting = Target.x\n",
    "    return northing, easting"
   ]
  },
  {
   "cell_type": "code",
   "execution_count": 31,
   "metadata": {},
   "outputs": [
    {
     "data": {
      "text/plain": [
       "array([[656728.51462753, 320921.48222912],\n",
       "       [656728.51462753, 320921.48222912],\n",
       "       [656728.51462753, 320921.48222912]])"
      ]
     },
     "execution_count": 31,
     "metadata": {},
     "output_type": "execute_result"
    }
   ],
   "source": [
    "transf = np.zeros_like(coord)\n",
    "for i in range(len(coord[:,0])):\n",
    "    transf[i,0], transf[i,1] = geod2bns(coord[i,0],coord[i,1],i)\n",
    "\n",
    "transf"
   ]
  },
  {
   "cell_type": "code",
   "execution_count": 25,
   "metadata": {},
   "outputs": [],
   "source": [
    "csv['Northing'], csv['Easting'] = transf[:,0], transf[:,1]\n",
    "# csv['northing']\n",
    "csv"
   ]
  },
  {
   "cell_type": "code",
   "execution_count": 26,
   "metadata": {},
   "outputs": [],
   "source": [
    "if save: csv.to_csv(csv_path)"
   ]
  }
 ],
 "metadata": {
  "kernelspec": {
   "display_name": "Python 3",
   "language": "python",
   "name": "python3"
  },
  "language_info": {
   "codemirror_mode": {
    "name": "ipython",
    "version": 3
   },
   "file_extension": ".py",
   "mimetype": "text/x-python",
   "name": "python",
   "nbconvert_exporter": "python",
   "pygments_lexer": "ipython3",
   "version": "3.12.7"
  }
 },
 "nbformat": 4,
 "nbformat_minor": 2
}
