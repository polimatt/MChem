{
 "cells": [
  {
   "cell_type": "code",
   "execution_count": 1,
   "metadata": {},
   "outputs": [],
   "source": [
    "import itertools\n",
    "import os\n",
    "\n",
    "import numpy as np\n",
    "import pandas as pd\n",
    "\n",
    "import sys          \n",
    "# appending the directory of pca.py in the sys.path list\n",
    "sys.path.append('../ms_processing')\n",
    "import ms_functions_and_defs as msf"
   ]
  },
  {
   "cell_type": "code",
   "execution_count": 2,
   "metadata": {},
   "outputs": [],
   "source": [
    "csv_save_folder = 'combinations_csvs'\n",
    "\n",
    "no_of_residues = 5"
   ]
  },
  {
   "cell_type": "code",
   "execution_count": 3,
   "metadata": {},
   "outputs": [],
   "source": [
    "aa_formula_dict = {\n",
    "    'Ala': {'C':  3,'H':  7,'N': 1,'O': 2,'S':0},\n",
    "    'Arg': {'C':  6,'H': 14,'N': 4,'O': 2,'S':0},\n",
    "    'Asn': {'C':  4,'H':  8,'N': 2,'O': 0,'S':0},\n",
    "    'Asp': {'C':  4,'H':  7,'N': 1,'O': 4,'S':0},\n",
    "    'Cys': {'C':  3,'H':  7,'N': 1,'O': 2,'S':1},\n",
    "    'Gln': {'C':  5,'H': 10,'N': 2,'O': 3,'S':0},\n",
    "    'Glu': {'C':  5,'H':  9,'N': 1,'O': 4,'S':0},\n",
    "    'Gly': {'C':  2,'H':  5,'N': 1,'O': 2,'S':0},\n",
    "    'His': {'C':  6,'H':  9,'N': 3,'O': 2,'S':0},\n",
    "    # 'Ile': {'C': 6,'H': 13,'N': 1,'O': 2,'S':0},\n",
    "    # Leu and Ile have the same mass, so are indistinguishable\n",
    "    'Leu': {'C':  6,'H': 13,'N': 1,'O': 2,'S':0},\n",
    "    'Lys': {'C':  6,'H': 14,'N': 2,'O': 2,'S':0},\n",
    "    'Met': {'C':  5,'H': 11,'N': 1,'O': 2,'S':1},\n",
    "    'Phe': {'C':  9,'H': 11,'N': 1,'O': 2,'S':0},\n",
    "    'Pro': {'C':  5,'H':  9,'N': 1,'O': 2,'S':0},\n",
    "    'Ser': {'C':  3,'H':  7,'N': 1,'O': 3,'S':0},\n",
    "    'Thr': {'C':  4,'H':  9,'N': 1,'O': 3,'S':0},\n",
    "    'Trp': {'C': 11,'H': 12,'N': 2,'O': 2,'S':0},\n",
    "    'Tyr': {'C':  9,'H': 11,'N': 1,'O': 3,'S':0},\n",
    "    'Val': {'C':  5,'H': 11,'N': 1,'O': 2,'S':0},\n",
    "}\n",
    "\n",
    "aas = list(aa_formula_dict.keys())\n",
    "elements = list(aa_formula_dict[aas[0]].keys())"
   ]
  },
  {
   "cell_type": "code",
   "execution_count": 4,
   "metadata": {},
   "outputs": [],
   "source": [
    "aa_mass_dict = {}\n",
    "\n",
    "for aa in aas:\n",
    "    aa_mass_dict[aa] = msf.calc_mass(aa_formula_dict[aa],mode='monoisotopic')"
   ]
  },
  {
   "cell_type": "code",
   "execution_count": 5,
   "metadata": {},
   "outputs": [],
   "source": [
    "csv_file_name = f'combinations_of_{no_of_residues}_aas.csv'\n",
    "\n",
    "if csv_file_name in os.listdir(csv_save_folder):\n",
    "    \n",
    "    combinations_df = pd.read_csv(f'{csv_save_folder}/{csv_file_name}')\n",
    "\n",
    "else:\n",
    "    \n",
    "    combinations_list = list(itertools.combinations_with_replacement(aas, r=no_of_residues))\n",
    "\n",
    "    combinations_df = pd.DataFrame(columns=aas)\n",
    "\n",
    "    for i in range(len(combinations_list)):\n",
    "        count_list = []\n",
    "        for aa in aas:\n",
    "            count_list.append(combinations_list[i].count(aa))\n",
    "\n",
    "        combinations_df.loc[len(combinations_df.index)] = count_list\n",
    "\n",
    "    elem_matrix = combinations_df.copy().to_numpy()\n",
    "    element_sum_lists = {}\n",
    "    for i in range(len(elem_matrix[:,0])):\n",
    "        element_sum = {}\n",
    "        for j in range(len(elem_matrix[i,:])):\n",
    "            \n",
    "            aa = aas[j]\n",
    "\n",
    "            for e in elements:\n",
    "                if j == 0:\n",
    "                    element_sum[e] = 0\n",
    "                \n",
    "                element_sum[e] += int(elem_matrix[i,j] * aa_formula_dict[aa][e])\n",
    "\n",
    "        for e in elements:\n",
    "            if i == 0:\n",
    "                element_sum_lists[e] = []\n",
    "            \n",
    "            element_sum_lists[e].append(element_sum[e])\n",
    "\n",
    "    for e in elements:\n",
    "        combinations_df[e] = element_sum_lists[e]\n",
    "    \n",
    "    elements_minus_C = elements.copy()\n",
    "    elements_minus_C.remove('C')\n",
    "    for e in elements_minus_C:\n",
    "        combinations_df[f'{e}/C'] = combinations_df[e].to_numpy() / combinations_df['C'].to_numpy()\n",
    "\n",
    "    mass_matrix = combinations_df.copy().to_numpy().astype(float)\n",
    "\n",
    "    for i in range(len(aas)):\n",
    "        mass_matrix[:,i] = mass_matrix[:,i] * aa_mass_dict[aas[i]]\n",
    "\n",
    "    combinations_df['mass'] = np.sum(mass_matrix,axis=1)\n",
    "    combinations_df.to_csv(f'{csv_save_folder}/{csv_file_name}',index=False)"
   ]
  },
  {
   "cell_type": "code",
   "execution_count": null,
   "metadata": {},
   "outputs": [],
   "source": []
  }
 ],
 "metadata": {
  "kernelspec": {
   "display_name": "Python 3",
   "language": "python",
   "name": "python3"
  },
  "language_info": {
   "codemirror_mode": {
    "name": "ipython",
    "version": 3
   },
   "file_extension": ".py",
   "mimetype": "text/x-python",
   "name": "python",
   "nbconvert_exporter": "python",
   "pygments_lexer": "ipython3",
   "version": "3.13.0"
  }
 },
 "nbformat": 4,
 "nbformat_minor": 2
}
